{
 "cells": [
  {
   "cell_type": "markdown",
   "metadata": {},
   "source": [
    "#### Generative adversial Network:\n",
    "Generative models are type of Unsupervised learning. Generative modelling involves automatically discovering and learning the regularities or patterns in input data in such a way that the model can be used to generate or output new examples that plausibly could have been drawn from the original dataset."
   ]
  },
  {
   "cell_type": "markdown",
   "metadata": {},
   "source": [
    "##### Supervised and Unsupervised:\n",
    "  - |                | Supervised Learning                      | Unsupervised Learning                    |\n",
    "    | -------------- | ---------------------------------------- | ---------------------------------------- |\n",
    "    | Data structure | Data: (x, y), and x is data, y is label  | Data: x, Just data, no labels!           |\n",
    "    | Data price     | Training data is expensive in a lot of cases. | Training data are cheap!                 |\n",
    "    | Goal           | Learn a function to map x -> y           | Learn some underlying hidden structure of the data |\n",
    "    | Examples       | Classification, regression, object detection, semantic segmentation, image captioning | Clustering, dimensionality reduction, feature learning, density estimation |"
   ]
  },
  {
   "cell_type": "markdown",
   "metadata": {},
   "source": [
    "#### [Autoencoader:](./autoencoder.ipynb)"
   ]
  },
  {
   "cell_type": "markdown",
   "metadata": {},
   "source": []
  }
 ],
 "metadata": {
  "language_info": {
   "name": "python"
  },
  "orig_nbformat": 4
 },
 "nbformat": 4,
 "nbformat_minor": 2
}
