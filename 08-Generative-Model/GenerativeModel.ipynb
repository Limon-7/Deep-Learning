{
 "cells": [
  {
   "cell_type": "markdown",
   "metadata": {},
   "source": [
    "## Generative Model:\n",
    "<a id='h_cell'></a>\n",
    "Generative models are a class of ***Unsupervised*** machine learning models designed to generate new data samples that resemble a given dataset. These models learn the underlying distribution of the training data and can produce new instances that share similar characteristics.\n",
    "\n",
    "<p align=\"center\"><img width=\"70%\" src=\"../images/GM.png\" /></p>\n"
   ]
  },
  {
   "cell_type": "markdown",
   "metadata": {},
   "source": [
    "|#|Topic|Code|\n",
    "|:---|:---:|:---:|\n",
    "01|[Supervised vs Unsupervised](#s_us_cell)|Code|\n",
    "02|[PixelRNN](#p_rnn_cell)|Code|\n",
    "03|[PixelCNN](#p_cnn_cell)|Code|\n",
    "04|[InstructPix2Pix](#inp_cell)|Code|\n",
    "05|[VAEs](#vaes_cell)|Code|\n",
    "05|[GANs](gan_cell)|Code|"
   ]
  },
  {
   "cell_type": "markdown",
   "metadata": {},
   "source": [
    "#### [1. Supervised vs Unsupervised Learning:](#h_cell)\n",
    "<a id='s_us_cell'></a>\n",
    "\n",
    "|                | Supervised Learning                      | Unsupervised Learning                    |\n",
    "| -------------- | ---------------------------------------- | ---------------------------------------- |\n",
    "| Data structure | Data: (x, y), and x is data, y is label  | Data: x, Just data, no labels!           |\n",
    "| Data price     | Training data is expensive in a lot of cases. | Training data are cheap!                 |\n",
    "| Goal           | Learn a function to map x -> y           | Learn some underlying hidden structure of the data |\n",
    "| Examples       | Classification, regression, object detection, semantic segmentation, image captioning | Clustering, dimensionality reduction, feature learning, density estimation |\n"
   ]
  },
  {
   "cell_type": "markdown",
   "metadata": {},
   "source": [
    "#### [2. PixelRNN:](#h_cell)\n",
    "<a id='p_rnn_cell'></a>"
   ]
  },
  {
   "cell_type": "markdown",
   "metadata": {},
   "source": [
    "#### [3. PixelCNN:](#h_cell)\n",
    "<a id='p_rnn_cell'></a>"
   ]
  },
  {
   "cell_type": "markdown",
   "metadata": {},
   "source": [
    "#### [4. InstructPix2Pix:](#h_cell)\n",
    "<a id='inp_cell'></a>"
   ]
  },
  {
   "cell_type": "markdown",
   "metadata": {},
   "source": [
    "#### [5. VAEs:](#h_cell)\n",
    "[Link](./autoencoder.ipynb)"
   ]
  },
  {
   "cell_type": "markdown",
   "metadata": {},
   "source": [
    "#### [6. GANS:](#h_cell)\n",
    "[Link](./gans.ipynb)"
   ]
  }
 ],
 "metadata": {
  "language_info": {
   "name": "python"
  },
  "orig_nbformat": 4
 },
 "nbformat": 4,
 "nbformat_minor": 2
}
