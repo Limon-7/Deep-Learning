{
 "cells": [
  {
   "cell_type": "markdown",
   "metadata": {},
   "source": [
    "## Generative Model:\n",
    "<a id='h_cell'></a>\n",
    "Generative models are a class of ***Unsupervised*** machine learning models designed to generate new data samples that resemble a given dataset. These models learn the underlying distribution of the training data and can produce new instances that share similar characteristics.\n",
    "\n",
    "<p align=\"center\"><img width=\"70%\" src=\"../images/GM.png\" /></p>\n"
   ]
  },
  {
   "cell_type": "markdown",
   "metadata": {},
   "source": [
    "|#|Topic|Code|\n",
    "|:---|:---:|:---:|\n",
    "01|[Supervised vs Unsupervised](#s_us_cell)|Code|\n",
    "02|[PixelRNN](#p_rnn_cell)|Code|\n",
    "03|[PixelCNN](#p_cnn_cell)|Code|\n",
    "04|[InstructPix2Pix](#inp_cell)|Code|\n",
    "05|[VAEs](#vaes_cell)|Code|\n",
    "05|[GANs](gan_cell)|Code|"
   ]
  },
  {
   "cell_type": "markdown",
   "metadata": {},
   "source": [
    "#### [1. Supervised vs Unsupervised Learning:](#h_cell)\n",
    "<a id='s_us_cell'></a>\n",
    "\n",
    "|                | Supervised Learning                      | Unsupervised Learning                    |\n",
    "| -------------- | ---------------------------------------- | ---------------------------------------- |\n",
    "| Data structure | Data: (x, y), and x is data, y is label  | Data: x, Just data, no labels!           |\n",
    "| Data price     | Training data is expensive in a lot of cases. | Training data are cheap!                 |\n",
    "| Goal           | Learn a function to map x -> y           | Learn some underlying hidden structure of the data |\n",
    "| Examples       | Classification, regression, object detection, semantic segmentation, image captioning | Clustering, dimensionality reduction, feature learning, density estimation |\n"
   ]
  },
  {
   "cell_type": "markdown",
   "metadata": {},
   "source": [
    "#### [2. PixelRNN:](#h_cell)\n",
    "<a id='p_rnn_cell'></a>\n",
    "In a full visible belief network we use the chain rule to decompose likelihood of an image x into product of 1-d distributions.<br>\n",
    "\n",
    "$p(x)=\\displaystyle \\prod_{i=1}^{n}p(x_i\\mid x_1...,x_{i-1})$<br>\n",
    "* $p(x)$ is the Likelihood of image x\n",
    "* $x_i$ Probability of i’th pixel value given all previous pixels.\n",
    "* Then maximize likelihood of training data.\n",
    "\n",
    "1. Founded by [van der Oord et al. 2016]\n",
    "2. Dependency on previous pixels modeled using an RNN (LSTM)\n",
    "3. Generate image pixels starting from corner\n",
    "4. Drawback: sequential generation is slow! because you have to generate pixel by pixel!"
   ]
  },
  {
   "cell_type": "markdown",
   "metadata": {},
   "source": [
    "#### [3. PixelCNN:](#h_cell)\n",
    "<a id='p_rnn_cell'></a>\n",
    "In a full visible belief network we use the chain rule to decompose likelihood of an image x into product of 1-d distributions.<br>\n",
    "\n",
    "$p(x)=\\displaystyle \\prod_{i=1}^{n}p(x_i\\mid x_1...,x_{i-1})$<br>\n",
    "* $p(x)$ is the Likelihood of image x\n",
    "* $x_i$ Probability of i’th pixel value given all previous pixels.\n",
    "* Then maximize likelihood of training data.\n",
    "\n",
    "1. Also Founded by [van der Oord et al. 2016]\n",
    "2. Still generate image pixels starting from corner.\n",
    "3. Dependency on previous pixels now modeled using a CNN over context region\n",
    "4. Training is faster than PixelRNN (can parallelize convolutions since context region values known from training images)\n",
    "5. Generation must still proceed sequentially still slow."
   ]
  },
  {
   "cell_type": "markdown",
   "metadata": {},
   "source": [
    "#### [4. InstructPix2Pix:](#h_cell)\n",
    "<a id='inp_cell'></a>"
   ]
  },
  {
   "cell_type": "markdown",
   "metadata": {},
   "source": [
    "#### [5. VAEs:](#h_cell)\n",
    "[Link](./autoencoder.ipynb)"
   ]
  },
  {
   "cell_type": "markdown",
   "metadata": {},
   "source": [
    "#### [6. GANS:](#h_cell)\n",
    "[Link](./gans.ipynb)"
   ]
  }
 ],
 "metadata": {
  "language_info": {
   "name": "python"
  },
  "orig_nbformat": 4
 },
 "nbformat": 4,
 "nbformat_minor": 2
}
