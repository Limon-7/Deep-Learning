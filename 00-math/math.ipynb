{
 "cells": [
  {
   "cell_type": "markdown",
   "metadata": {},
   "source": [
    "#### Hesse normal form:\n",
    "[Hesse normal form](https://en.wikipedia.org/wiki/Hesse_normal_form) is primarily used in analytical geometry or co-ordinate geometry for calculating distances."
   ]
  },
  {
   "cell_type": "markdown",
   "metadata": {},
   "source": [
    "## Calculas:\n"
   ]
  },
  {
   "cell_type": "markdown",
   "metadata": {},
   "source": [
    "### Derivates:\n",
    "1. Instantaneous rate of change (Physics)\n",
    "2. Slope of a line at a specific point (Geometry)"
   ]
  },
  {
   "cell_type": "markdown",
   "metadata": {},
   "source": [
    "#### Chain rule:\n",
    "The chain rule is a formula for calculating the derivatives of composite functions. Composite functions are functions composed of functions inside other function(s).\n",
    "$$f(x)=h(g(x))$$\n",
    "$$\\frac{df}{dx}=\\frac{dh}{dg}\\cdot \\frac{dg}{dx}$$\n",
    "\n",
    "Example:\n",
    "$\\displaystyle MSE=J(w,b)=\\frac{1}{N}\\sum_{i=1}^{n}(y_i-(wx_i+b)^2)$<br>\n",
    "let, $g=(y_i-(wx_i+b))$<br>\n",
    "outer function: $\\displaystyle \\frac {dg^2}{dg}=2g=2(y_i-(wx_i+b))$<br>\n",
    "inner fuction: $\\displaystyle \\frac {d((y_i-(wx_i+b)))}{dw}=-x_i$<br>\n",
    "inner fuction: $\\displaystyle \\frac {d((y_i-(wx_i+b)))}{db}=-1$<br><br>\n",
    "$\\displaystyle J'(w,b)=\\begin{bmatrix} \\frac{df}{dw} \\\\ \\\\ \\frac{df}{db}\\end{bmatrix}\n",
    "= \\displaystyle {\\begin{bmatrix} \\frac{1}{N}\\sum_{i=1}^{n}-2x_i\\cdot (y_i-(wx_i+b)) \\\\ \\\\ \\frac{1}{N}\\sum_{i=1}^{n}-2\\cdot (y_i-(wx_i+b))\\end{bmatrix}}$\n"
   ]
  }
 ],
 "metadata": {
  "language_info": {
   "name": "python"
  },
  "orig_nbformat": 4
 },
 "nbformat": 4,
 "nbformat_minor": 2
}
