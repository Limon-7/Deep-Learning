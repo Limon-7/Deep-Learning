{
 "cells": [
  {
   "cell_type": "markdown",
   "metadata": {},
   "source": [
    "#### Hesse normal form:\n",
    "[Hesse normal form](https://en.wikipedia.org/wiki/Hesse_normal_form) is primarily used in analytical geometry or co-ordinate geometry for calculating distances."
   ]
  }
 ],
 "metadata": {
  "language_info": {
   "name": "python"
  },
  "orig_nbformat": 4
 },
 "nbformat": 4,
 "nbformat_minor": 2
}
