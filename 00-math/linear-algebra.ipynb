{
 "cells": [
  {
   "cell_type": "markdown",
   "metadata": {},
   "source": [
    "## Linera Algebra\n",
    "<a id='h_cell'></a>\n",
    "\n",
    "\n",
    "|Serial|Topic|Status|\n",
    "|--:|:--|--:|\n",
    "|01|[Vector](#v_cell)||\n",
    "|02|[Matrix](#mat_cell)||"
   ]
  },
  {
   "cell_type": "markdown",
   "metadata": {},
   "source": [
    "### [1. Vector:](#h_cell)\n",
    "<a id='v_cell'></a>\n",
    "Vectors are 1-dimensional arrays of numbers or terms. In geometry, vectors store the magnitude and direction of a potential change to a point. The vector [3, -2] says go right 3 and down 2. A vector with more than one dimension is called a matrix.\n",
    "$$\\vec v = \\begin{bmatrix} 1 \\\\ 2 \\\\ 3 \\\\ \\end{bmatrix} = \\begin{pmatrix} 1 \\\\ 2 \\\\ 3 \\\\ \\end{pmatrix} = \\begin{bmatrix} 1 & 2 & 3\\\\ \\end{bmatrix}$$\n",
    "\n",
    "1. Column Vector: A column vector is an $n\\times 1$ matrix because it always has 1 column and some number of rows. \n",
    "\n",
    "2. Row Vector: A row vector is a $1\\times n$ matrix, as it has 1 row and some number of columns.\n",
    "\n",
    "3. Scalar Operation: Scalar operations involve a vector and a number. You modify the vector in-place by adding, subtracting, or multiplying the number from all the values in the vector. $$\\begin{bmatrix} 2 \\\\ 2 \\\\ 2 \\\\ \\end{bmatrix} + 1 = \\begin{bmatrix} 3 \\\\ 3 \\\\ 3 \\\\ \\end{bmatrix}$$\n",
    "\n",
    "4. Elementwise operations: In elementwise operations like addition, subtraction, and division, values that correspond positionally are combined to produce a new vector. $$\\begin{bmatrix} a_1 \\\\ a_2 \\\\ \\end{bmatrix} + \\begin{bmatrix} b_1 \\\\ b_2 \\\\ \\end{bmatrix} = \\begin{bmatrix} a_1+b_1 \\\\ a_2+b_2 \\\\ \\end{bmatrix}$$\n",
    "\n",
    "5. Dot product or  scalar product: The dot product of two vectors is a scalar. Dot product of vectors and matrices (matrix multiplication) is one of the most important operations in deep learning.$$\\begin{bmatrix} a_1 \\\\ a_2 \\\\ \\end{bmatrix} \\cdot \\begin{bmatrix} b_1 \\\\ b_2 \\\\ \\end{bmatrix} = a_1 b_1+a_2 b_2$$\n",
    "\n",
    "6. Hadamard Product: Hadamard Product is elementwise multiplication and it outputs a vector. $$\\begin{bmatrix} a_1 \\\\ a_2 \\\\ \\end{bmatrix} \\odot \\begin{bmatrix} b_1 \\\\ b_2 \\\\ \\end{bmatrix} = \\begin{bmatrix} a_1 \\cdot b_1 \\\\ a_2 \\cdot b_2 \\\\ \\end{bmatrix}$$"
   ]
  },
  {
   "cell_type": "code",
   "execution_count": 14,
   "metadata": {},
   "outputs": [
    {
     "name": "stdout",
     "output_type": "stream",
     "text": [
      "y + x =[3 5 7]\n",
      "y - x=[-1 -1 -1]\n",
      "y / x=[0.5        0.66666667 0.75      ]\n",
      "y * x=[ 2  6 12]\n",
      "y.dot(x)=20\n"
     ]
    }
   ],
   "source": [
    "import numpy as np\n",
    "y = np.array([1,2,3])\n",
    "x = np.array([2,3,4])\n",
    "print(f\"y + x ={y + x }\")# [3, 5, 7]\n",
    "print(f\"y - x={y - x }\")# [-1, -1, -1]\n",
    "print(f\"y / x={y / x }\")# [.5, .67, .75]\n",
    "print(f\"y * x={y * x }\")# Hadamard product =[1*2, 2*3, 3*4]=[ 2,  6, 12]\n",
    "print(f\"y.dot(x)={y.dot(x) }\")# Dot product/ scalar product 1*2+2*3+3*4=20\n"
   ]
  },
  {
   "cell_type": "markdown",
   "metadata": {},
   "source": [
    "### [2. Matrix:](#h_cell)\n",
    "<a id='mat_cell'></a>\n",
    "\n",
    "A matrix is a rectangular grid of numbers or terms (like an Excel spreadsheet) with special rules for addition, subtraction, and multiplication.\n",
    "$$A=\\begin{bmatrix} 1402 & 191 \\\\ 1371 & 821\\\\ 949 & 1437\\\\ 147 & 1448 \\end{bmatrix} = \\text { is a } [4\\times 2] \\text{ matrix}$$\n",
    "1. Dimention: Dimension of a matrix are [Rows x Columns]\n",
    "    * Start at top left\n",
    "    * To bottom left\n",
    "    * To bottom right\n",
    "    * $\\displaystyle R^{[r x c]}$ means a matrix which has r rows and c columns\n",
    "2. Matrix elements: $A_{(i,j)} = \\text { entry in }i^{th}\\text{ row and } j^{th} \\text{ column }$\n",
    "    * $A_{11}=821$\n",
    "\n",
    "3. Scalar operations: Scalar operations with matrices work the same way as they do for vectors. Simply apply the scalar to every element in the matrix — add, subtract, divide, multiply, etc.$$\\begin{bmatrix} 2 & 3 \\\\ 2 & 3 \\\\ 2 & 3 \\\\ \\end{bmatrix} + 1 = \\begin{bmatrix} 3 & 4 \\\\ 3 & 4 \\\\ 3 & 4 \\\\ \\end{bmatrix}$$\n",
    "\n",
    "4. Elementwise operations:In order to add, subtract, or divide two matrices they must have ***equal dimensions***. We combine corresponding values in an elementwise fashion to produce a new matrix.$$\\begin{bmatrix} a & b \\\\ c & d \\\\ \\end{bmatrix} + \\begin{bmatrix} 1 & 2\\\\ 3 & 4 \\\\ \\end{bmatrix} = \\begin{bmatrix} a+1 & b+2\\\\ c+3 & d+4 \\\\ \\end{bmatrix}$$\n",
    "\n",
    "5. Hadamard product: Hadamard product of matrices is an elementwise operation. Values that correspond positionally are multiplied to produce a new matrix. $$\\begin{bmatrix} a_1 & a_2 \\\\ a_3 & a_4 \\\\ \\end{bmatrix} \\odot \\begin{bmatrix} b_1 & b_2 \\\\ b_3 & b_4 \\\\ \\end{bmatrix} = \\begin{bmatrix} a_1 \\cdot b_1 & a_2 \\cdot b_2 \\\\ a_3 \\cdot b_3 & a_4 \\cdot b_4 \\\\ \\end{bmatrix}$$\n",
    "\n",
    "6. Matrix transpose:Matrix transposition (often denoted by a superscript ‘T’ e.g. M^T) provides a way to “rotate” one of the matrices so that the operation complies with multiplication requirements and can continue. There are two steps to transpose a matrix:\n",
    "    1. Rotate the matrix right 90°\n",
    "    2. Reverse the order of elements in each row (e.g. [a b c] becomes [c b a])\n",
    "    3. $$A=\\begin{bmatrix} a & b \\\\ c & d \\\\ e & f \\\\ \\end{bmatrix}\\text{} A^T=\\begin{bmatrix} a & c & e \\\\ b & d & f \\\\ \\end{bmatrix}$$\n",
    "7. Matrix multiplication: Matrix multiplication specifies a set of rules for multiplying matrices together to produce a new matrix.\n",
    "    * The number of columns of the 1st matrix must equal the number of rows of the 2nd\n",
    "    * The product of an M x N matrix and an N x K matrix is an M x K matrix. The new matrix takes the rows of the 1st and columns of the 2nd\n",
    "    * $$\\begin{bmatrix} a & b \\\\ c & d \\\\ e & f \\\\ \\end{bmatrix} \\cdot \\begin{bmatrix} 1 & 2 \\\\ 3 & 4 \\\\ \\end{bmatrix} = \\begin{bmatrix} 1a + 3b & 2a + 4b \\\\ 1c + 3d & 2c + 4d \\\\ 1e + 3f & 2e + 4f \\\\ \\end{bmatrix}$$\n",
    "\n",
    "8. Determinant: The determinant of a square matrix A (denoted det(A) or |A|) is a number encoding certain properties of the matrix.$$det\\begin{bmatrix} a_1 & a_2 \\\\ a_3 & a_4 \\\\ \\end{bmatrix}=a_1 * a_4 -a_2*a_3$$\n"
   ]
  },
  {
   "cell_type": "markdown",
   "metadata": {},
   "source": [
    "#### Types of Matrix:\n",
    "1. Square matrix: A square matrix is a matrix with the same number of rows and columns\n",
    "2. Diagonal matrix: all entries outside the main diagonal are zero, A is called a diagonal matrix.$$\\begin{bmatrix} a_{11} & 0 & 0 \\\\ 0 & a_{22} & 0 \\\\ 0 & 0 & a_{33}\\end{bmatrix}$$\n",
    "4. Identity matrix: The identity matrix In of size n is the n-by-n matrix in which all the elements on the main diagonal are equal to 1 and all other elements are equal to 0. $$I=\\begin{bmatrix} 1 & 0 & 0 \\\\ 0 & 1 & 0 \\\\ 0 & 0 & 1\\end{bmatrix}$$\n",
    "    - No transformation is needed (preserve inputs as they are).\n",
    "    - It is a part of a more complex matrix operation\n",
    "5. Orthogonal matrix: An orthogonal matrix is a square matrix with real entries whose columns and rows are orthogonal unit vectors. $A.A^T=I$\n",
    "6.  Sparse Matrix: A sparse matrix is a matrix in which most of the elements are zero.$$\\begin{bmatrix} 1 & 1 & 1 \\\\ 0 & 1 & 0 \\\\ 0 & 0 & 1\\end{bmatrix}$$"
   ]
  }
 ],
 "metadata": {
  "kernelspec": {
   "display_name": "Python 3",
   "language": "python",
   "name": "python3"
  },
  "language_info": {
   "codemirror_mode": {
    "name": "ipython",
    "version": 3
   },
   "file_extension": ".py",
   "mimetype": "text/x-python",
   "name": "python",
   "nbconvert_exporter": "python",
   "pygments_lexer": "ipython3",
   "version": "3.11.3"
  },
  "orig_nbformat": 4
 },
 "nbformat": 4,
 "nbformat_minor": 2
}
