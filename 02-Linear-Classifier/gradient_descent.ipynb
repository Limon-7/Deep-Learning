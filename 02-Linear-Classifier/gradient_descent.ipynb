{
 "cells": [
  {
   "attachments": {},
   "cell_type": "markdown",
   "metadata": {},
   "source": [
    "### Calculate the gradient"
   ]
  },
  {
   "cell_type": "code",
   "execution_count": 5,
   "metadata": {},
   "outputs": [
    {
     "name": "stdout",
     "output_type": "stream",
     "text": [
      "x: [[-1  0  1]\n",
      " [ 2  3  4]]\n",
      "Function values: [[-0.68294197  0.          2.68294197]\n",
      " [ 5.81859485  9.28224002 14.48639501]]\n",
      "Numerical Gradient: [[-0.91939539  2.          3.08060461]\n",
      " [ 3.16770633  4.02001501  6.69271276]]\n"
     ]
    }
   ],
   "source": [
    "import numpy as np\n",
    "\n",
    "# Define a function\n",
    "def f(x):\n",
    "    return x**2 + 2 * np.sin(x)\n",
    "\n",
    "# Define the points at which to compute the gradient\n",
    "x = np.array([[-1, 0, 1],[2,3,4]])  # Example points\n",
    "\n",
    "# Define the step size for finite differences\n",
    "h = 1e-6\n",
    "\n",
    "# Compute the gradient numerically using finite differences\n",
    "gradient = (f(x + h) - f(x - h)) / (2 * h)\n",
    "\n",
    "# Print the function values and gradient\n",
    "print(\"x:\", x)\n",
    "print(\"Function values:\", f(x))\n",
    "print(\"Numerical Gradient:\", gradient)"
   ]
  },
  {
   "cell_type": "code",
   "execution_count": 4,
   "metadata": {},
   "outputs": [
    {
     "name": "stdout",
     "output_type": "stream",
     "text": [
      "Analytic gradient for weight w1 [[-0.10051075 -0.26272135 -0.01630413 -0.12590926]\n",
      " [-0.2010215  -0.5254427  -0.03260825 -0.25181852]\n",
      " [-0.30153225 -0.78816405 -0.04891238 -0.37772778]]\n",
      "Numeric gradient for weight w1: [[-0.100507]]\n"
     ]
    }
   ],
   "source": [
    "import numpy as np\n",
    "\n",
    "np.random.seed(1) # keep the orginal array shape\n",
    "\n",
    "inp_neuron = 3\n",
    "out_neuron = 1\n",
    "hidden_neuron = 4\n",
    "\n",
    "w1 = np.random.rand(inp_neuron, hidden_neuron)\n",
    "w2 = np.random.rand(hidden_neuron, out_neuron)\n",
    "\n",
    "def sigmoid(x):\n",
    "    return 1/(1+np.exp(-x)) # np.exp(m): return An array with exponential of all elements of input array.\n",
    "        \n",
    "def analytic_grad(x, y):\n",
    "        \n",
    "    global w1, w2\n",
    "    \n",
    "    hid = sigmoid(np.matmul(x, w1)) # np.matmul(m1,m2): returns the matrix product of two arrays\n",
    "    out = np.matmul(hid, w2)\n",
    "        \n",
    "    loss = ((y - out)**2)/2\n",
    "    out_delta = (out - y)\n",
    "                            \n",
    "    hid_error = np.matmul(out_delta, w2.T)\n",
    "    hid_delta = hid_error*hid*(1-hid)\n",
    "                          \n",
    "    grad_w2 = np.matmul(hid.T, out_delta)  \n",
    "    grad_w1 = np.matmul(x.T, hid_delta) \n",
    "        \n",
    "    return grad_w1\n",
    "\n",
    "def loss(x, y, w1, w2):\n",
    "                            \n",
    "    hid = sigmoid(np.matmul(x, w1))\n",
    "    out = np.matmul(hid, w2)\n",
    "    loss = ((y - out)**2)/2\n",
    "    return loss    \n",
    "    \n",
    "    \n",
    "def numeric_grad(x, y):\n",
    "        \n",
    "    h = 0.0001\n",
    "    global w1, w2\n",
    "    \n",
    "    w1[0,0] += h\n",
    "    loss_h = loss(x, y, w1, w2)   # f(a+h)\n",
    "        \n",
    "    w1[0,0] -= h\n",
    "    loss_ = loss(x, y, w1, w2)    # f(a)\n",
    "        \n",
    "    grad = (loss_h - loss_)/h     # (f(a+h)-f(a)) / h\n",
    "    return grad\n",
    "\n",
    "x = np.array([[1,2,3]])\n",
    "y = np.array([6])\n",
    "\n",
    "print(\"Analytic gradient for weight w1\", analytic_grad(x, y))\n",
    "print(\"Numeric gradient for weight w1:\", numeric_grad(x, y))"
   ]
  },
  {
   "cell_type": "code",
   "execution_count": 2,
   "metadata": {},
   "outputs": [
    {
     "name": "stdout",
     "output_type": "stream",
     "text": [
      "gradients of w1:\n",
      "\n",
      " [[-0.00723209 -0.02216027 -0.0866869  -0.24917071]\n",
      " [-0.01446418 -0.04432054 -0.1733738  -0.49834142]\n",
      " [-0.02169628 -0.06648081 -0.26006069 -0.74751213]]\n"
     ]
    }
   ],
   "source": [
    "inp_neuron = 3\n",
    "out_neuron = 1\n",
    "hidden_neuron = 4\n",
    "\n",
    "x = np.array([[1,2,3]])\n",
    "y = np.array([6])\n",
    "\n",
    "def sigmoid(x):\n",
    "    return 1/(1+np.exp(-x))\n",
    "\n",
    "# defining weight matrices\n",
    "w1 = np.random.rand(inp_neuron, hidden_neuron)\n",
    "w2 = np.random.rand(hidden_neuron, out_neuron)\n",
    "\n",
    "# calculating activations\n",
    "hid = sigmoid(np.matmul(x, w1))    \n",
    "out = np.matmul(hid, w2)           \n",
    "        \n",
    "# defining loss function    \n",
    "loss = ((y - out)**2)/2\n",
    "\n",
    "# calculating the gredients of loss w.r.t weights\n",
    "out_delta = (out - y)                         \n",
    "hid_error = np.matmul(out_delta, w2.T)\n",
    "hid_delta = hid_error*hid*(1-hid)                         \n",
    "grad_w2 = np.matmul(hid.T, out_delta)  \n",
    "grad_w1 = np.matmul(x.T, hid_delta) \n",
    "\n",
    "print(\"gradients of w1:\\n\\n\", grad_w1)"
   ]
  },
  {
   "attachments": {},
   "cell_type": "markdown",
   "metadata": {},
   "source": [
    "# Gradient Descent: `θj := θj - α * ∂J(θ) / ∂θj`\n",
    "1. `y_pred = w * x + b`\n",
    "2. `J(w, b) = (1/N) * ∑(y_pred - y)^2`\n",
    "\n",
    "\n",
    "Algorithm:\n",
    "\n",
    "        1. Initialize the parameters\n",
    "        2. Compute the cost function\n",
    "        3. Compute the gradients\n",
    "           3.1. Compute the partial derivative of the cost function with respect to w: \n",
    "           ∂J/∂w = (2/N) * ∑(y_pred - y) * x\n",
    "           3.2 Compute the partial derivative of the cost function with respect to b: \n",
    "           ∂J/∂b = (2/N) * ∑(y_pred - y)\n",
    "        4. Update the parameters\n",
    "                - w := w - α * ∂J/∂w\n",
    "                - b := b - α * ∂J/∂b\n",
    "        5. Repeat steps 2-4"
   ]
  },
  {
   "cell_type": "code",
   "execution_count": 56,
   "metadata": {},
   "outputs": [],
   "source": [
    "import numpy as np\n",
    "np.random.seed(100)"
   ]
  },
  {
   "cell_type": "code",
   "execution_count": 9,
   "metadata": {},
   "outputs": [
    {
     "name": "stdout",
     "output_type": "stream",
     "text": [
      "0  loss is [6.64559454 3.30360334] parameters w=[-1.657925   -0.23209242] and b=0.0859398545802357\n",
      "1  loss is [6.124358   2.93982681] parameters w=[-1.60855432 -0.18272174] and b=0.1674272802013969\n",
      "2  loss is [5.65034317 2.61532209] parameters w=[-1.56142246 -0.13558988] and b=0.24468661048841578\n",
      "3  loss is [5.21910698 2.32605026] parameters w=[-1.51641744 -0.09058486] and b=0.3179308924846992\n"
     ]
    }
   ],
   "source": [
    "\n",
    "# Gradient Descent for linear regression\n",
    "# yhat= wx+b\n",
    "#loss= (y-yhat)**2/N\n",
    "#initialize some parameters\n",
    "N,D=10,2\n",
    "x= np.random.rand(N,D) # d= R*C\n",
    "y= 2*x + np.random.rand() # actual value\n",
    "\n",
    "#parameters\n",
    "w= np.random.randn(D)\n",
    "b= 0.00\n",
    "\n",
    "# hypoparameter\n",
    "learning_rate=0.01\n",
    "\n",
    "def descend(x,y,w,b,learning_rate):\n",
    "    dldw=0.0\n",
    "    dldb=0.0\n",
    "    N=x.shape[0]\n",
    "    for xi, yi in zip(x,y):\n",
    "        dldw +=-(2*xi.dot(yi-(w.T*xi+b)))\n",
    "        dldb +=-np.sum(2*(yi-(w.T*xi+b)))\n",
    "\n",
    "    w= w - learning_rate*(1/N)*dldw #  # in batch gradient descent update happens only one time\n",
    "    b= b - learning_rate*(1/N)*dldb\n",
    "    return w,b\n",
    "        \n",
    "for epoch in range(4):\n",
    "    w,b=descend(x,y,w,b,learning_rate)\n",
    "    yhat=w.T*x+b\n",
    "    loss=np.divide(np.sum((y-yhat)**2, axis=0), x.shape[0])\n",
    "    print(f\"{epoch}  loss is {loss} parameters w={w} and b={b}\")"
   ]
  },
  {
   "cell_type": "code",
   "execution_count": 90,
   "metadata": {},
   "outputs": [
    {
     "name": "stdout",
     "output_type": "stream",
     "text": [
      "Bias:  0.025472330267818477 Weights:  [0.66148097 0.09849288 0.58086275]\n"
     ]
    }
   ],
   "source": [
    "import random\n",
    "def initialize(dim):\n",
    "    b=random.random()\n",
    "    theta=np.random.rand(dim)\n",
    "    return b,theta\n",
    "b,theta=initialize(3)\n",
    "print(\"Bias: \",b,\"Weights: \",theta)"
   ]
  },
  {
   "cell_type": "code",
   "execution_count": 1,
   "metadata": {},
   "outputs": [
    {
     "data": {
      "text/html": [
       "<div>\n",
       "<style scoped>\n",
       "    .dataframe tbody tr th:only-of-type {\n",
       "        vertical-align: middle;\n",
       "    }\n",
       "\n",
       "    .dataframe tbody tr th {\n",
       "        vertical-align: top;\n",
       "    }\n",
       "\n",
       "    .dataframe thead th {\n",
       "        text-align: right;\n",
       "    }\n",
       "</style>\n",
       "<table border=\"1\" class=\"dataframe\">\n",
       "  <thead>\n",
       "    <tr style=\"text-align: right;\">\n",
       "      <th></th>\n",
       "      <th>Unnamed: 0</th>\n",
       "      <th>TV</th>\n",
       "      <th>radio</th>\n",
       "      <th>newspaper</th>\n",
       "      <th>sales</th>\n",
       "    </tr>\n",
       "  </thead>\n",
       "  <tbody>\n",
       "    <tr>\n",
       "      <th>0</th>\n",
       "      <td>1</td>\n",
       "      <td>230.1</td>\n",
       "      <td>37.8</td>\n",
       "      <td>69.2</td>\n",
       "      <td>22.1</td>\n",
       "    </tr>\n",
       "    <tr>\n",
       "      <th>1</th>\n",
       "      <td>2</td>\n",
       "      <td>44.5</td>\n",
       "      <td>39.3</td>\n",
       "      <td>45.1</td>\n",
       "      <td>10.4</td>\n",
       "    </tr>\n",
       "    <tr>\n",
       "      <th>2</th>\n",
       "      <td>3</td>\n",
       "      <td>17.2</td>\n",
       "      <td>45.9</td>\n",
       "      <td>69.3</td>\n",
       "      <td>9.3</td>\n",
       "    </tr>\n",
       "    <tr>\n",
       "      <th>3</th>\n",
       "      <td>4</td>\n",
       "      <td>151.5</td>\n",
       "      <td>41.3</td>\n",
       "      <td>58.5</td>\n",
       "      <td>18.5</td>\n",
       "    </tr>\n",
       "    <tr>\n",
       "      <th>4</th>\n",
       "      <td>5</td>\n",
       "      <td>180.8</td>\n",
       "      <td>10.8</td>\n",
       "      <td>58.4</td>\n",
       "      <td>12.9</td>\n",
       "    </tr>\n",
       "  </tbody>\n",
       "</table>\n",
       "</div>"
      ],
      "text/plain": [
       "   Unnamed: 0     TV  radio  newspaper  sales\n",
       "0           1  230.1   37.8       69.2   22.1\n",
       "1           2   44.5   39.3       45.1   10.4\n",
       "2           3   17.2   45.9       69.3    9.3\n",
       "3           4  151.5   41.3       58.5   18.5\n",
       "4           5  180.8   10.8       58.4   12.9"
      ]
     },
     "execution_count": 1,
     "metadata": {},
     "output_type": "execute_result"
    }
   ],
   "source": [
    "import pandas as pd\n",
    "import numpy as np\n",
    "import matplotlib.pyplot as plt\n",
    "\n",
    "df=pd.read_csv('../dataset/Advertising.csv')\n",
    "df.head()"
   ]
  },
  {
   "cell_type": "code",
   "execution_count": 21,
   "metadata": {},
   "outputs": [
    {
     "name": "stdout",
     "output_type": "stream",
     "text": [
      "         TV     radio  newspaper\n",
      "0  0.967425  0.979066   1.774493\n",
      "1 -1.194379  1.080097   0.667903\n",
      "2 -1.512360  1.524637   1.779084\n",
      "3  0.051919  1.214806   1.283185\n",
      "4  0.393196 -0.839507   1.278593\n"
     ]
    }
   ],
   "source": [
    "X=df[['TV','radio','newspaper']]\n",
    "Y=df['sales']\n",
    "Y=np.array((Y-Y.mean())/Y.std())\n",
    "X=X.apply(lambda rec:(rec-rec.mean())/rec.std(),axis=0)\n",
    "print(X.head())"
   ]
  },
  {
   "cell_type": "code",
   "execution_count": 22,
   "metadata": {},
   "outputs": [
    {
     "name": "stdout",
     "output_type": "stream",
     "text": [
      "Bias:  0.655920614759266 Weights:  [0.49896821 0.1340551  0.63560361]\n"
     ]
    }
   ],
   "source": [
    "import random\n",
    "def initialize(dim):\n",
    "    b=random.random()\n",
    "    theta=np.random.rand(dim)\n",
    "    return b,theta\n",
    "b,theta=initialize(3)\n",
    "print('Bias: ',b,'Weights: ',theta)"
   ]
  },
  {
   "cell_type": "code",
   "execution_count": 23,
   "metadata": {},
   "outputs": [
    {
     "data": {
      "text/plain": [
       "array([ 2.39775733,  0.62927738,  1.23647886,  1.66027477,  1.55225104,\n",
       "        1.38051924,  0.01575034, -0.08633362, -1.20230092,  0.50296306])"
      ]
     },
     "execution_count": 23,
     "metadata": {},
     "output_type": "execute_result"
    }
   ],
   "source": [
    "def predict_Y(b,theta,X):\n",
    "    return b + np.dot(X,theta)\n",
    "Y_hat=predict_Y(b,theta,X)\n",
    "Y_hat[0:10]"
   ]
  },
  {
   "cell_type": "code",
   "execution_count": 24,
   "metadata": {},
   "outputs": [
    {
     "data": {
      "text/plain": [
       "0.9767079433751067"
      ]
     },
     "execution_count": 24,
     "metadata": {},
     "output_type": "execute_result"
    }
   ],
   "source": [
    "import math\n",
    "def get_cost(Y,Y_hat):\n",
    "    Y_resd=Y-Y_hat\n",
    "    return np.sum(np.dot(Y_resd.T,Y_resd))/len(Y-Y_resd)\n",
    "Y_hat=predict_Y(b,theta,X)\n",
    "get_cost(Y,Y_hat)"
   ]
  },
  {
   "cell_type": "code",
   "execution_count": 25,
   "metadata": {},
   "outputs": [
    {
     "name": "stdout",
     "output_type": "stream",
     "text": [
      "After initialization -Bias:  0.655920614759266 theta:  [0.49896821 0.1340551  0.63560361]\n",
      "After first update -Bias:  0.6428022024640807 theta:  [0.50374229 0.13783112 0.62599112]\n"
     ]
    },
    {
     "data": {
      "text/plain": [
       "0.9767079433751067"
      ]
     },
     "execution_count": 25,
     "metadata": {},
     "output_type": "execute_result"
    }
   ],
   "source": [
    "def update_theta(x,y,y_hat,b_0,theta_o,learning_rate):\n",
    "    '''\n",
    "    x,y : the input and output variable\n",
    "    y_hat: predicted value with current bias and weights\n",
    "    b_0,theta_0: current bias and weights\n",
    "    Learning rate: learning rate to adjust the update step\n",
    "    '''\n",
    "    db=(np.sum(y_hat-y)*2)/len(y)\n",
    "    dw=(np.dot((y_hat-y),x)*2)/len(y)\n",
    "    b_1=b_0-learning_rate*db\n",
    "    theta_1=theta_o-learning_rate*dw\n",
    "    return b_1,theta_1\n",
    "\n",
    "print(\"After initialization -Bias: \",b,\"theta: \",theta)\n",
    "Y_hat=predict_Y(b,theta,X)\n",
    "b,theta=update_theta(X,Y,Y_hat,b,theta,0.01)\n",
    "print(\"After first update -Bias: \",b,\"theta: \",theta)\n",
    "get_cost(Y,Y_hat)"
   ]
  },
  {
   "cell_type": "code",
   "execution_count": 26,
   "metadata": {},
   "outputs": [
    {
     "name": "stdout",
     "output_type": "stream",
     "text": [
      "0.5333926789832796\n",
      "Final Estimate of b and theta :  0.5333926789832796 [0.57500064 0.72406737 0.16976378]\n",
      "    iteration      cost\n",
      "0         0.0  1.031564\n",
      "1        10.0  0.992611\n",
      "2        20.0  0.955321\n",
      "3        30.0  0.919620\n",
      "4        40.0  0.885440\n",
      "5        50.0  0.852714\n",
      "6        60.0  0.821379\n",
      "7        70.0  0.791376\n",
      "8        80.0  0.762646\n",
      "9        90.0  0.735134\n",
      "10      100.0  0.708787\n",
      "11      110.0  0.683556\n",
      "12      120.0  0.659392\n",
      "13      130.0  0.636249\n",
      "14      140.0  0.614083\n",
      "15      150.0  0.592852\n",
      "16      160.0  0.572516\n",
      "17      170.0  0.553036\n",
      "18      180.0  0.534376\n",
      "19      190.0  0.516501\n"
     ]
    }
   ],
   "source": [
    "def run_gradient_descent(X,Y, alpha, num_iterations):\n",
    "    b,theta=initialize(X.shape[1])\n",
    "    iter_num=0\n",
    "    gd_iterations_df=pd.DataFrame(columns=['iteration','cost'])\n",
    "    result_idx=0\n",
    "    for each_iter in range(num_iterations):\n",
    "        Y_hat=predict_Y(b,theta,X)\n",
    "        this_cost=get_cost(Y,Y_hat)\n",
    "        prev_b=b\n",
    "        prev_theta=theta\n",
    "        b,theta=update_theta(X,Y,Y_hat,prev_b,prev_theta,alpha)\n",
    "        # print(b, theta)\n",
    "        if(iter_num%10==0):\n",
    "            gd_iterations_df.loc[result_idx]=[iter_num,this_cost]\n",
    "            result_idx=result_idx+1\n",
    "        iter_num +=1\n",
    "    print(b)\n",
    "    print(\"Final Estimate of b and theta : \",b,theta)\n",
    "    return gd_iterations_df,b,theta\n",
    "gd_iterations_df,b,theta=run_gradient_descent(X,Y,alpha=0.001,num_iterations=200)\n",
    "print(gd_iterations_df)"
   ]
  },
  {
   "cell_type": "code",
   "execution_count": 27,
   "metadata": {},
   "outputs": [
    {
     "data": {
      "text/plain": [
       "Text(0, 0.5, 'Cost or MSE')"
      ]
     },
     "execution_count": 27,
     "metadata": {},
     "output_type": "execute_result"
    },
    {
     "data": {
      "image/png": "[encoded data removed]",
      "text/plain": [
       "<Figure size 640x480 with 1 Axes>"
      ]
     },
     "metadata": {},
     "output_type": "display_data"
    }
   ],
   "source": [
    "%matplotlib inline\n",
    "plt.plot(gd_iterations_df['iteration'],gd_iterations_df['cost'])\n",
    "plt.xlabel('Number of iterations')\n",
    "plt.ylabel('Cost or MSE')"
   ]
  },
  {
   "cell_type": "code",
   "execution_count": 28,
   "metadata": {},
   "outputs": [
    {
     "name": "stdout",
     "output_type": "stream",
     "text": [
      "-4.0298443389490436e-17\n",
      "Final Estimate of b and theta :  -4.0298443389490436e-17 [ 0.75306591  0.53648155 -0.00433069]\n",
      "0.0012072287941551911\n",
      "Final Estimate of b and theta :  0.0012072287941551911 [0.74285042 0.48489848 0.05106122]\n"
     ]
    },
    {
     "data": {
      "text/plain": [
       "Text(0.5, 1.0, 'Cost Vs. Iterations for different alpha values')"
      ]
     },
     "execution_count": 28,
     "metadata": {},
     "output_type": "execute_result"
    },
    {
     "data": {
      "image/png": "[encoded data removed]",
      "text/plain": [
       "<Figure size 640x480 with 1 Axes>"
      ]
     },
     "metadata": {},
     "output_type": "display_data"
    }
   ],
   "source": [
    "alpha_df_1,b,theta=run_gradient_descent(X,Y,alpha=0.01,num_iterations=2000)\n",
    "alpha_df_2,b,theta=run_gradient_descent(X,Y,alpha=0.001,num_iterations=2000)\n",
    "plt.plot(alpha_df_1['iteration'],alpha_df_1['cost'],label='alpha=0.01')\n",
    "plt.plot(alpha_df_2['iteration'],alpha_df_2['cost'],label='alpha=0.001')\n",
    "plt.legend()\n",
    "plt.ylabel('cost')\n",
    "plt.xlabel('Number of iterations')\n",
    "plt.title('Cost Vs. Iterations for different alpha values')"
   ]
  },
  {
   "cell_type": "code",
   "execution_count": null,
   "metadata": {},
   "outputs": [],
   "source": []
  }
 ],
 "metadata": {
  "kernelspec": {
   "display_name": "Python 3",
   "language": "python",
   "name": "python3"
  },
  "language_info": {
   "codemirror_mode": {
    "name": "ipython",
    "version": 3
   },
   "file_extension": ".py",
   "mimetype": "text/x-python",
   "name": "python",
   "nbconvert_exporter": "python",
   "pygments_lexer": "ipython3",
   "version": "3.11.3"
  },
  "orig_nbformat": 4
 },
 "nbformat": 4,
 "nbformat_minor": 2
}
