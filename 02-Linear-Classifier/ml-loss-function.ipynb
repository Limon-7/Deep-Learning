{
 "cells": [
  {
   "attachments": {},
   "cell_type": "markdown",
   "id": "e9c28fd4",
   "metadata": {},
   "source": [
    "### Loss Function and cost function using Numpy"
   ]
  },
  {
   "cell_type": "code",
   "execution_count": 2,
   "id": "3aa2a182",
   "metadata": {},
   "outputs": [],
   "source": [
    "import numpy as np\n",
    "\n",
    "actual = np.array([10, 11, 12, 13])\n",
    "prediction = np.array([10, 12, 14, 11])"
   ]
  },
  {
   "cell_type": "code",
   "execution_count": 4,
   "id": "3aa89c97",
   "metadata": {},
   "outputs": [],
   "source": [
    "# define a function to calculate MAE\n",
    "def mean_absolute_error(actual, prediction):\n",
    "    l1_loss= abs(actual-prediction)\n",
    "    # l1_loss=abs(actual-prediction)\n",
    "    print(\"L1 Loss:\",l1_loss)\n",
    "    \n",
    "    ## MAE=sum of all l1_loss/N\n",
    "    mae_cost= l1_loss.mean()\n",
    "    print(\"MAE: \",mae_cost)"
   ]
  },
  {
   "cell_type": "code",
   "execution_count": 5,
   "id": "77c6560e",
   "metadata": {},
   "outputs": [
    {
     "name": "stdout",
     "output_type": "stream",
     "text": [
      "L1 Loss: [0 1 2 2]\n",
      "MAE:  1.25\n"
     ]
    }
   ],
   "source": [
    "mean_absolute_error(actual, prediction)"
   ]
  },
  {
   "cell_type": "code",
   "execution_count": 24,
   "id": "414a3b12",
   "metadata": {},
   "outputs": [
    {
     "data": {
      "text/plain": [
       "1.25"
      ]
     },
     "execution_count": 24,
     "metadata": {},
     "output_type": "execute_result"
    }
   ],
   "source": [
    "from sklearn.metrics import mean_absolute_error\n",
    "mean_absolute_error(actual, prediction)"
   ]
  },
  {
   "cell_type": "code",
   "execution_count": 25,
   "id": "3b804950",
   "metadata": {},
   "outputs": [],
   "source": [
    "# Define a function to calculate MSE\n",
    "def mean_squared_error(actual, prediction):\n",
    "    # l2_loss= (actual-prediction)**2\n",
    "    l2_loss=(actual-prediction)**2\n",
    "    print(\"L2 Loss\",l2_loss)\n",
    "\n",
    "    # L2_Cost function: MSE=sum of all l2_loss/N\n",
    "    mse_cost= l2_loss.mean()\n",
    "    print(\"MSE: \",mse_cost)"
   ]
  },
  {
   "cell_type": "code",
   "execution_count": 26,
   "id": "831c699d",
   "metadata": {},
   "outputs": [
    {
     "name": "stdout",
     "output_type": "stream",
     "text": [
      "L2 Loss [0 1 4 4]\n",
      "MSE:  2.25\n"
     ]
    }
   ],
   "source": [
    "mean_squared_error(actual, prediction)"
   ]
  },
  {
   "cell_type": "code",
   "execution_count": 27,
   "id": "350dc1c2",
   "metadata": {},
   "outputs": [
    {
     "data": {
      "text/plain": [
       "2.25"
      ]
     },
     "execution_count": 27,
     "metadata": {},
     "output_type": "execute_result"
    }
   ],
   "source": [
    "from sklearn.metrics import mean_squared_error\n",
    "mean_squared_error(actual, prediction)"
   ]
  },
  {
   "cell_type": "code",
   "execution_count": 28,
   "id": "a02e1327",
   "metadata": {},
   "outputs": [],
   "source": [
    "## RMSE\n",
    "def root_mean_squared_error(act, pred):\n",
    "   diff = pred - act\n",
    "   differences_squared = diff ** 2\n",
    "   mean_diff = differences_squared.mean()\n",
    "   rmse_val = np.sqrt(mean_diff)\n",
    "   return rmse_val"
   ]
  },
  {
   "cell_type": "code",
   "execution_count": 29,
   "id": "80b3f518",
   "metadata": {},
   "outputs": [
    {
     "name": "stdout",
     "output_type": "stream",
     "text": [
      "RMSE: 1.5\n"
     ]
    }
   ],
   "source": [
    "print(\"RMSE:\", root_mean_squared_error(actual, prediction))"
   ]
  },
  {
   "cell_type": "code",
   "execution_count": 30,
   "id": "47c36d57",
   "metadata": {},
   "outputs": [
    {
     "data": {
      "text/plain": [
       "1.5"
      ]
     },
     "execution_count": 30,
     "metadata": {},
     "output_type": "execute_result"
    }
   ],
   "source": [
    "# Using sci-kit learn\n",
    "\n",
    "from sklearn.metrics import mean_squared_error\n",
    "\n",
    "mean_squared_error(actual, prediction, squared = False)"
   ]
  },
  {
   "cell_type": "code",
   "execution_count": 31,
   "id": "fcf6cd83",
   "metadata": {},
   "outputs": [
    {
     "data": {
      "text/plain": [
       "0.21616187468057912"
      ]
     },
     "execution_count": 31,
     "metadata": {},
     "output_type": "execute_result"
    }
   ],
   "source": [
    "# Binary cross Entropy=-ylog(p1)-(1-y)log(1-p1)// here -use to make it positive\n",
    "from sklearn.metrics import log_loss\n",
    "log_loss([\"Dog\", \"Cat\", \"Cat\", \"Dog\"],[[.1, .9], [.9, .1], [.8, .2], [.35, .65]])"
   ]
  },
  {
   "cell_type": "code",
   "execution_count": 32,
   "id": "930bc374",
   "metadata": {},
   "outputs": [
    {
     "name": "stdout",
     "output_type": "stream",
     "text": [
      "d is: ['0.00000000', '0.16600000', '0.33300000']\n",
      "p is: ['0.00000000', '0.25400000', '0.99800000']\n",
      "mae error is: 0.251\n"
     ]
    }
   ],
   "source": [
    "import numpy as np\n",
    "y_hat = np.array([0.000, 0.166, 0.333])\n",
    "y_true = np.array([0.000, 0.254, 0.998])\n",
    "\n",
    "print(\"d is: \" + str([\"%.8f\" % elem for elem in y_hat]))\n",
    "print(\"p is: \" + str([\"%.8f\" % elem for elem in y_true]))\n",
    "\n",
    "def mae(predictions, targets):\n",
    "    differences = predictions - targets\n",
    "    absolute_differences = np.absolute(differences)\n",
    "    mean_absolute_differences = absolute_differences.mean()\n",
    "    return mean_absolute_differences\n",
    "mae_val = mae(y_hat, y_true)\n",
    "print (\"mae error is: \" + str(mae_val))"
   ]
  },
  {
   "cell_type": "code",
   "execution_count": 33,
   "id": "ee9e27b0",
   "metadata": {},
   "outputs": [
    {
     "name": "stdout",
     "output_type": "stream",
     "text": [
      "Cross entropy loss is: 0.7135329699138555\n"
     ]
    }
   ],
   "source": [
    "import numpy as np\n",
    "predictions = np.array([[0.25,0.25,0.25,0.25],\n",
    "                        [0.01,0.01,0.01,0.96]])\n",
    "targets = np.array([[0,0,0,1],\n",
    "                   [0,0,0,1]])\n",
    "def cross_entropy(predictions, targets, epsilon=1e-10):\n",
    "    predictions = np.clip(predictions, epsilon, 1. - epsilon)\n",
    "    N = predictions.shape[0]\n",
    "    ce_loss = -np.sum(np.sum(targets * np.log(predictions + 1e-5)))/N\n",
    "    return ce_loss\n",
    "cross_entropy_loss = cross_entropy(predictions, targets)\n",
    "print (\"Cross entropy loss is: \" + str(cross_entropy_loss))"
   ]
  },
  {
   "cell_type": "code",
   "execution_count": 35,
   "id": "df209993",
   "metadata": {},
   "outputs": [
    {
     "data": {
      "image/png": "[encoded data removed]",
      "text/plain": [
       "<Figure size 640x480 with 1 Axes>"
      ]
     },
     "metadata": {},
     "output_type": "display_data"
    }
   ],
   "source": [
    "import numpy as np\n",
    "import matplotlib.pyplot as plt\n",
    "\n",
    "# MSE loss function\n",
    "def mse_loss(y_pred, y_true):\n",
    "    squared_error = (y_pred - y_true) ** 2\n",
    "    sum_squared_error = np.sum(squared_error)\n",
    "    loss = sum_squared_error / y_true.size\n",
    "    print(loss)\n",
    "    return loss\n",
    "    \n",
    "# Plotting\n",
    "x_vals = np.arange(-20, 20, 0.01)\n",
    "y_vals = np.square(x_vals)\n",
    "\n",
    "plt.plot(x_vals, y_vals, \"blue\")\n",
    "plt.grid(True, which=\"major\")\n",
    "plt.show()"
   ]
  },
  {
   "cell_type": "code",
   "execution_count": null,
   "id": "0e26695e",
   "metadata": {},
   "outputs": [],
   "source": []
  }
 ],
 "metadata": {
  "kernelspec": {
   "display_name": "Python 3 (ipykernel)",
   "language": "python",
   "name": "python3"
  },
  "language_info": {
   "codemirror_mode": {
    "name": "ipython",
    "version": 3
   },
   "file_extension": ".py",
   "mimetype": "text/x-python",
   "name": "python",
   "nbconvert_exporter": "python",
   "pygments_lexer": "ipython3",
   "version": "3.11.3"
  }
 },
 "nbformat": 4,
 "nbformat_minor": 5
}
