{
 "cells": [
  {
   "cell_type": "markdown",
   "metadata": {},
   "source": [
    "## Udemy Course 0 to Mastery:\n",
    "### Trajectory vs Episodes\n",
    "**Trajectory: $\\tau$** A trajectory $\\tau$ is a sequence of states and actions in the world. $\\tau = (s_0, a_0, r_1, s_1, a_1, r_2...).$\n",
    "\n",
    "**Episodes:** A `Trajectory from the initial state to the final state.` $\\tau = (s_0, a_0, r_1, s_1, a_1, r_2 \\cdots r_n, s_t).$\n",
    "### Reward vs Return:\n",
    "$R_t:$ Reward is the immediate result our action produce.\n",
    "$G_t=R_t+R_{t+1}+ R_{t+2}+ \\cdots + R_T$: Total discounted reward from time-step t is called Return. "
   ]
  }
 ],
 "metadata": {
  "language_info": {
   "name": "python"
  }
 },
 "nbformat": 4,
 "nbformat_minor": 2
}
