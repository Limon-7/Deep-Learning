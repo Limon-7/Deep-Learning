{
 "cells": [
  {
   "cell_type": "code",
   "execution_count": 2,
   "metadata": {},
   "outputs": [],
   "source": [
    "import numpy as np"
   ]
  },
  {
   "cell_type": "code",
   "execution_count": 12,
   "metadata": {},
   "outputs": [
    {
     "name": "stdout",
     "output_type": "stream",
     "text": [
      "Output shape: (100, 3)\n",
      "Before normalize:\n",
      "[[-1.74976547  0.3426804   1.1530358 ]\n",
      " [-0.25243604  0.98132079  0.51421884]\n",
      " [ 0.22117967 -1.07004333 -0.18949583]\n",
      " [ 0.25500144 -0.45802699  0.43516349]\n",
      " [-0.58359505  0.81684707  0.67272081]]\n",
      "After Normalized: [[-1.55299144  0.35224236  1.0755908 ]\n",
      " [-0.12879852  0.96162304  0.43654118]\n",
      " [ 0.3216836  -0.99575654 -0.26742979]\n",
      " [ 0.35385336 -0.41178011  0.35745704]\n",
      " [-0.44378219  0.80468479  0.59510087]]\n"
     ]
    }
   ],
   "source": [
    "# a simple mini-batch implementation using numpy \n",
    "def batch_normalization_forward(x, gamma, beta, eps=1e-8):\n",
    "    N, D = x.shape\n",
    "    \n",
    "    # Step 1: Calculate mean\n",
    "    mu = np.mean(x, axis=0)\n",
    "    \n",
    "    # Step 2: Subtract mean\n",
    "    xmu = x - mu\n",
    "    \n",
    "    # Step 3: Calculate variance\n",
    "    var = np.mean(xmu**2, axis=0)\n",
    "    \n",
    "    # Step 4: Calculate standard deviation\n",
    "    std = np.sqrt(var + eps)\n",
    "    \n",
    "    # Step 5: Invert standard deviation\n",
    "    istd = 1.0 / std\n",
    "    \n",
    "    # Step 6: Normalize\n",
    "    xhat = xmu * istd\n",
    "    \n",
    "    # Step 7: Scale and shift\n",
    "    out = gamma * xhat + beta\n",
    "    \n",
    "    # Store intermediate values for backpropagation\n",
    "    cache = (xhat, gamma, xmu, istd, std, var, eps)\n",
    "    \n",
    "    return out, cache\n",
    "\n",
    "# Example usage\n",
    "np.random.seed(100)\n",
    "x = np.random.randn(100, 3)  # Input data\n",
    "gamma = np.ones(3)           # Scale parameter\n",
    "beta = np.zeros(3)           # Shift parameter\n",
    "\n",
    "# Perform batch normalization forward pass\n",
    "out, cache = batch_normalization_forward(x, gamma, beta)\n",
    "\n",
    "print(\"Output shape:\", out.shape)\n",
    "print(f\"Before normalize:\\n{x[:5]}\")\n",
    "print(\"After Normalized:\",out[:5])"
   ]
  },
  {
   "cell_type": "code",
   "execution_count": null,
   "metadata": {},
   "outputs": [],
   "source": []
  }
 ],
 "metadata": {
  "kernelspec": {
   "display_name": "Python 3",
   "language": "python",
   "name": "python3"
  },
  "language_info": {
   "codemirror_mode": {
    "name": "ipython",
    "version": 3
   },
   "file_extension": ".py",
   "mimetype": "text/x-python",
   "name": "python",
   "nbconvert_exporter": "python",
   "pygments_lexer": "ipython3",
   "version": "3.11.3"
  },
  "orig_nbformat": 4
 },
 "nbformat": 4,
 "nbformat_minor": 2
}
