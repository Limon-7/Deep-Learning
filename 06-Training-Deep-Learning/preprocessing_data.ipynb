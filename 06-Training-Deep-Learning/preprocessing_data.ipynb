{
 "cells": [
  {
   "cell_type": "code",
   "execution_count": 26,
   "metadata": {},
   "outputs": [],
   "source": [
    "import numpy as np\n",
    "\n",
    "X = np.array([[1, 2, 3, 4],\n",
    "              [5, 6, 7, 8],\n",
    "              [9, -10, -11, 12]])"
   ]
  },
  {
   "attachments": {},
   "cell_type": "markdown",
   "metadata": {},
   "source": [
    "#### Standaization(Z-Score Normalization):\n",
    "`Formula: (x - mean) / standard deviation`"
   ]
  },
  {
   "cell_type": "code",
   "execution_count": 27,
   "metadata": {},
   "outputs": [],
   "source": [
    "def standardize_features(X):\n",
    "    np_mean= np.mean(X, axis=0)\n",
    "    np_std=np.std(X, axis=0)\n",
    "    standardize_X=(X-np_mean)/np_std\n",
    "    return standardize_X"
   ]
  },
  {
   "attachments": {},
   "cell_type": "markdown",
   "metadata": {},
   "source": [
    "#### Normalization (Min-Max scaling):[0-1]\n",
    "`Formula: (x - min) / (max - min)`"
   ]
  },
  {
   "cell_type": "code",
   "execution_count": 28,
   "metadata": {},
   "outputs": [],
   "source": [
    "def min_max_features(X, axis=1):\n",
    "    min_val = np.min(X, axis)\n",
    "    max_val = np.max(X, axis)\n",
    "    normalized_X = (X - min_val) / (max_val - min_val)\n",
    "    return normalized_X"
   ]
  },
  {
   "cell_type": "code",
   "execution_count": 29,
   "metadata": {},
   "outputs": [
    {
     "name": "stdout",
     "output_type": "stream",
     "text": [
      "Standarization: [[-1.22474487  0.39223227  0.43193421 -1.22474487]\n",
      " [ 0.          0.98058068  0.95025527  0.        ]\n",
      " [ 1.22474487 -1.37281295 -1.38218948  1.22474487]]\n",
      "Min-Max-Scaling: [[0.         0.75       0.77777778 0.        ]\n",
      " [0.5        1.         1.         0.5       ]\n",
      " [1.         0.         0.         1.        ]]\n",
      "[[0.         0.75       0.77777778 0.        ]\n",
      " [0.5        1.         1.         0.5       ]\n",
      " [1.         0.         0.         1.        ]]\n"
     ]
    }
   ],
   "source": [
    "std_nor= standardize_features(X)\n",
    "min_max_nor= min_max_features(X,0)\n",
    "print(\"Standarization:\", std_nor)\n",
    "print(\"Min-Max-Scaling:\", min_max_nor)\n",
    "print(min_max_features(X,0))"
   ]
  },
  {
   "attachments": {},
   "cell_type": "markdown",
   "metadata": {},
   "source": [
    "### Computer Vision\n",
    "### Zero-centering/ Zero Centered Or Mean Centered\n",
    "Subtracting the mean of each image from the corresponding image pixels helps to center the pixel values around zero.\n",
    "`Formula: X -= np.mean(X, axis = 0)`\n",
    "- Preserves the overall brightness and contrast of the image.\n",
    "- Useful for image processing tasks that rely on relative pixel intensity values.\n",
    "- Minimizes the effect of global lighting variations or biases across images."
   ]
  },
  {
   "cell_type": "code",
   "execution_count": 34,
   "metadata": {},
   "outputs": [
    {
     "data": {
      "text/plain": [
       "array([[ -4.        ,   2.66666667,   3.33333333,  -4.        ],\n",
       "       [  0.        ,   6.66666667,   7.33333333,   0.        ],\n",
       "       [  4.        ,  -9.33333333, -10.66666667,   4.        ]])"
      ]
     },
     "execution_count": 34,
     "metadata": {},
     "output_type": "execute_result"
    }
   ],
   "source": [
    "def zero_centering_features(X, axis=0):\n",
    "    return X-np.mean(X, axis)\n",
    "\n",
    "zero_centering_features(X)"
   ]
  },
  {
   "attachments": {},
   "cell_type": "markdown",
   "metadata": {},
   "source": [
    "#### Standardization (X /= np.std(X, axis=1)):\n",
    "Dividing each image by its standard deviation aims to scale the pixel values to have unit variance.\n",
    "- The pixel intensities may be spread out over a larger dynamic range, potentially reducing the ability to differentiate fine details or low-intensity features.\n",
    "- The scaling effect can amplify the impact of noise or artifacts present in the image."
   ]
  },
  {
   "cell_type": "code",
   "execution_count": 36,
   "metadata": {},
   "outputs": [
    {
     "data": {
      "text/plain": [
       "array([[  0.2,  -3. ,  -9. ,   0.5],\n",
       "       [  1. ,  -9. , -21. ,   1. ],\n",
       "       [  1.8,  15. ,  33. ,   1.5]])"
      ]
     },
     "execution_count": 36,
     "metadata": {},
     "output_type": "execute_result"
    }
   ],
   "source": [
    "def zero_std_features(X, axis=0):\n",
    "    return X/np.mean(X, axis)\n",
    "\n",
    "zero_std_features(X)"
   ]
  },
  {
   "attachments": {},
   "cell_type": "markdown",
   "metadata": {},
   "source": [
    "#### Per Channel Mean:\n",
    "Per channel mean refers to calculating the mean value separately for each channel of an image. In the context of image processing, an image typically consists of multiple color channels, such as Red, Green, and Blue (RGB)."
   ]
  },
  {
   "cell_type": "code",
   "execution_count": 43,
   "metadata": {},
   "outputs": [
    {
     "name": "stdout",
     "output_type": "stream",
     "text": [
      "Per channel mean: [13. 14. 15.]\n",
      "Subtract mean Image: [[[-9. -9. -9.]\n",
      "  [-9. -9. -9.]\n",
      "  [-9. -9. -9.]]\n",
      "\n",
      " [[ 0.  0.  0.]\n",
      "  [ 0.  0.  0.]\n",
      "  [ 0.  0.  0.]]\n",
      "\n",
      " [[ 9.  9.  9.]\n",
      "  [ 9.  9.  9.]\n",
      "  [ 9.  9.  9.]]]\n",
      "Subtract Per-Chanel: [[[-12. -12. -12.]\n",
      "  [ -9.  -9.  -9.]\n",
      "  [ -6.  -6.  -6.]]\n",
      "\n",
      " [[ -3.  -3.  -3.]\n",
      "  [  0.   0.   0.]\n",
      "  [  3.   3.   3.]]\n",
      "\n",
      " [[  6.   6.   6.]\n",
      "  [  9.   9.   9.]\n",
      "  [ 12.  12.  12.]]]\n"
     ]
    }
   ],
   "source": [
    "image = np.array([\n",
    "    [[1, 2, 3], [4, 5, 6], [7, 8, 9]],\n",
    "    [[10, 11, 12], [13, 14, 15], [16, 17, 18]],\n",
    "    [[19, 20, 21], [22, 23, 24], [25, 26, 27]]\n",
    "])\n",
    "\n",
    "# Calculate per channel mean\n",
    "mean_per_channel = np.mean(image, axis=(0, 1))\n",
    "\n",
    "print(\"Per channel mean:\", mean_per_channel)\n",
    "print(\"Subtract mean Image:\",zero_centering_features(image))\n",
    "\n",
    "print(\"Subtract Per-Chanel:\", zero_centering_features(image, (0,1)))"
   ]
  },
  {
   "cell_type": "code",
   "execution_count": null,
   "metadata": {},
   "outputs": [],
   "source": []
  }
 ],
 "metadata": {
  "kernelspec": {
   "display_name": "Python 3",
   "language": "python",
   "name": "python3"
  },
  "language_info": {
   "codemirror_mode": {
    "name": "ipython",
    "version": 3
   },
   "file_extension": ".py",
   "mimetype": "text/x-python",
   "name": "python",
   "nbconvert_exporter": "python",
   "pygments_lexer": "ipython3",
   "version": "3.11.3"
  },
  "orig_nbformat": 4
 },
 "nbformat": 4,
 "nbformat_minor": 2
}
