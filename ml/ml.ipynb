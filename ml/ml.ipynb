{
 "cells": [
  {
   "cell_type": "markdown",
   "metadata": {},
   "source": [
    "Table of content\n",
    "<a id='h_cell'></a>\n",
    "\n",
    "|#|Topic|Code|\n",
    "|--:|:---:|---:|\n",
    "|01| [Supervised Learning](#sl_cell)||\n",
    "|02| [UnSupervised Learning](#usl_cell)||\n",
    "|04| [Semi-Supervised Learning](#ssl_cell)||\n",
    "|04| [Reinforcement Learning](#rl_cell)||\n",
    "|05| [Data](#data_cell)||\n",
    "|06| [Parameter and Hyperparameter](#p_hp_cell)||\n",
    "|07| [Bais, Variance, Overfittig and Underfitting](#b_v__cell)||"
   ]
  },
  {
   "cell_type": "markdown",
   "metadata": {},
   "source": [
    "### AI vs ML vs DL\n",
    "\n",
    "<p align=\"center\"><img width=\"80%\" src=\"../images/AI_ML_DL.png\" /></p>"
   ]
  },
  {
   "cell_type": "markdown",
   "metadata": {},
   "source": [
    "1. ***AI:*** Artificial Intelligence is a technique that allows machines to act like humans by replicating their behavior and nature."
   ]
  },
  {
   "cell_type": "markdown",
   "metadata": {},
   "source": [
    "2. ***ML:*** Machine Learning is a subset of artificial intelligence. It allows the machines to learn and make predictions based on its experience(data)."
   ]
  },
  {
   "cell_type": "markdown",
   "metadata": {},
   "source": [
    "3. ***Deep Leraning:*** Deep learning is a subfield of machine learning that focuses on training artificial neural networks to perform tasks by learning from data. It is inspired by the structure and function of the human brain, where interconnected neurons process information. "
   ]
  },
  {
   "cell_type": "markdown",
   "metadata": {},
   "source": [
    "### [1. Supervised Learning:](#h_cell)\n",
    "\n",
    "<a id='sl_cell'></a>\n",
    "\n",
    "In supervised learning, the model learns from labeled training data, where each example consists of input features and their corresponding output labels. The goal is to learn a mapping between the input and output variables, allowing the model to make predictions or classify new, unseen data.\n",
    "\n",
    "The two types of supervised learning approaches are-\n",
    "1. Classification\n",
    "2. Regression\n"
   ]
  },
  {
   "cell_type": "markdown",
   "metadata": {},
   "source": [
    "#### 1.1 Classification:\n",
    "Classification is a supervised learning task where the goal is to predict a categorical or discrete class label for a given input.\n",
    "\n",
    "Some common types of classification-\n",
    "\n",
    "1. Binary Classification: In binary classification, the target variable has only two possible classes. The task is to assign an input to one of the two classes.\n",
    "    - Examples: spam detection (spam vs. non-spam emails), disease diagnosis (disease present vs. not present), and sentiment analysis (positive vs. negative sentiment).\n",
    "    - Algorithm: Logistic Regression, k-Nearest Neighbors, Decision Trees, Support Vector Machine, Naive Bayes.\n",
    "    \n",
    "2. Multi-class Classification:  In multi-class classification, the target variable has more than two classes. The task is to assign an input to one of multiple classes. Examples: image classification (identifying objects from a set of classes), document categorization (assigning articles to different topics), hand gesture recognition (recognizing various hand gestures).\n",
    "    - Algorithm: k-Nearest Neighbors, Decision Trees, Naive Bayes, Random Forest, Gradient Boosting.\n",
    "\n",
    "3. Multi-label Classification: In multi-label classification,  one or more class labels may be predicted for each input. It is common to model multi-label classification tasks with a model that predicts multiple outputs, with each output taking predicted as a Bernoulli probability distribution. \n",
    "    - Example: image tagging, document classification with multiple topics.\n",
    "    - Algorithm: Multi-label Decision Trees, Multi-label Random Forests, Multi-label Gradient Boosting.\n",
    "\n",
    "4. Imbalanced Classification: Imbalanced classification refers to classification tasks where the number of examples in each class is unequally distributed.\n",
    "    - Example: Fraud detection, Outlier detection, Medical diagnostic tests."
   ]
  },
  {
   "cell_type": "markdown",
   "metadata": {},
   "source": [
    "#### 1.2 Regression:\n",
    "Regression analysis is a statistical technique used to model the relationship between a dependent variable (response) and one or more independent variables (predictors). It aims to estimate the parameters of the regression equation and make predictions or inferences about the dependent variable based on the independent variables.\n",
    "\n",
    "It is mainly used for prediction, forecasting, time series modeling, and determining the causal-effect relationship between variables.\n",
    "\n",
    "There are different types of regression techniques available-\n",
    "1. Linear Regression:\n",
    "    - Example:\n",
    "    - Algorithm:\n",
    "2. Logistic Regression:\n",
    "    - Example:\n",
    "    - Algorithm:\n",
    "3. Polynomial Regression:\n",
    "    - Example:\n",
    "    - Algorithm:\n",
    "4. Support Vector Regression:\n",
    "    - Example:\n",
    "    - Algorithm:\n",
    "5. Decision Tree Regression:\n",
    "    - Example:\n",
    "    - Algorithm:\n",
    "6. Random Forest Regression:\n",
    "    - Example:\n",
    "    - Algorithm:\n",
    "7. Ridge Regression:\n",
    "    - Example:\n",
    "    - Algorithm:\n",
    "8. Lasso Regression:\n",
    "    - Example:\n",
    "    - Algorithm:\n"
   ]
  },
  {
   "cell_type": "markdown",
   "metadata": {},
   "source": [
    "#### 1.4 Challenge of Supervised Learning:\n",
    "Although supervised learning can offer businesses advantages, such as deep data insights and improved automation, there are some challenges when building sustainable supervised learning models. The following are some of these challenges:\n",
    "\n",
    "1. Supervised learning models can require certain levels of expertise to structure accurately.\n",
    "2. Training supervised learning models can be very time intensive.\n",
    "3. Datasets can have a higher likelihood of human error, resulting in algorithms learning incorrectly.\n",
    "4. Unlike unsupervised learning models, supervised learning cannot cluster or classify data on its own.\n"
   ]
  },
  {
   "cell_type": "markdown",
   "metadata": {},
   "source": [
    "### [2. UnSupervised Learning](#h_cell)\n",
    "<a id='usl_cell'></a>\n",
    "\n",
    "Unsupervised learning, also known as unsupervised machine learning, uses machine learning algorithms to analyze and cluster unlabeled datasets. These algorithms discover hidden patterns or data groupings without the need for human intervention. Its ability to discover similarities and differences in information make it the ideal solution for exploratory data analysis, cross-selling strategies, customer segmentation, and image recognition.\n",
    "\n",
    "Data: x =>Just Data, no labels.\n"
   ]
  },
  {
   "cell_type": "markdown",
   "metadata": {},
   "source": [
    "***Unsupervised learning models*** are utilized for three main tasks—clustering, association, and dimensionality reduction.\n",
    "\n",
    "1. Clustering: Clustering is a data mining technique which groups unlabeled data based on their similarities or differences. Clustering algorithms are used to process raw, unclassified data objects into groups represented by structures or patterns in the information. Clustering algorithms can be categorized into a few types, specifically exclusive, overlapping, hierarchical, and probabilistic.\n",
    "\n",
    "2. An association rule: An association rule is a rule-based method for finding relationships between variables in a given dataset. These methods are frequently used for market basket analysis, allowing companies to better understand relationships between different products. Understanding consumption habits of customers enables businesses to develop better cross-selling strategies and recommendation engines. Examples of this can be seen in Amazon’s “Customers Who Bought This Item Also Bought” or Spotify’s \"Discover Weekly\" playlist. While there are a few different algorithms used to generate association rules, such as Apriori, Eclat, and FP-Growth, the Apriori algorithm is most widely used.\n",
    "\n",
    "3. Dimensionality reduction: While more data generally yields more accurate results, it can also impact the performance of machine learning algorithms (e.g. overfitting) and it can also make it difficult to visualize datasets. Dimensionality reduction is a technique used when the number of features, or dimensions, in a given dataset is too high. It reduces the number of data inputs to a manageable size while also preserving the integrity of the dataset as much as possible. It is commonly used in the preprocessing data stage, and there are a few different dimensionality reduction methods that can be used, such as:\n",
    "    \n",
    "    * Principal component analysis: Principal component analysis (PCA) is a type of dimensionality reduction algorithm which is used to reduce redundancies and to compress datasets through feature extraction. This method uses a linear transformation to create a new data representation, yielding a set of \"principal components.\" The first principal component is the direction which maximizes the variance of the dataset. While the second principal component also finds the maximum variance in the data, it is completely uncorrelated to the first principal component, yielding a direction that is perpendicular, or orthogonal, to the first component. This process repeats based on the number of dimensions, where a next principal component is the direction orthogonal to the prior components with the most variance.\n",
    "    \n",
    "    * Singular value decomposition: Singular value decomposition (SVD) is another dimensionality reduction approach which factorizes a matrix, A, into three, low-rank matrices. SVD is denoted by the formula, A = USVT, where U and V are orthogonal matrices. S is a diagonal matrix, and S values are considered singular values of matrix A. Similar to PCA, it is commonly used to reduce noise and compress data, such as image files.\n",
    "    \n",
    "    * Autoencoders: Autoencoders leverage neural networks to compress data and then recreate a new representation of the original data’s input. Looking at the image below, you can see that the hidden layer specifically acts as a bottleneck to compress the input layer prior to reconstructing within the output layer. The stage from the input layer to the hidden layer is referred to as “encoding” while the stage from the hidden layer to the output layer is known as “decoding.”"
   ]
  },
  {
   "cell_type": "markdown",
   "metadata": {},
   "source": [
    "#### Unsupervised learning Example:\n",
    "Unsupervised learning provides an exploratory path to view data, allowing businesses to identify patterns in large volumes of data more quickly when compared to manual observation. Some of the most common real-world applications of unsupervised learning are:\n",
    "\n",
    "1. News Sections: Google News uses unsupervised learning to categorize articles on the same story from various online news outlets. For example, the results of a presidential election could be categorized under their label for “US” news.\n",
    "\n",
    "2. Computer vision: Unsupervised learning algorithms are used for visual perception tasks, such as object recognition.\n",
    "Medical imaging: Unsupervised machine learning provides essential features to medical imaging devices, such as image detection, classification and segmentation, used in radiology and pathology to diagnose patients quickly and accurately.\n",
    "\n",
    "3. Anomaly detection: Unsupervised learning models can comb through large amounts of data and discover atypical data points within a dataset. These anomalies can raise awareness around faulty equipment, human error, or breaches in security.\n",
    "\n",
    "4. Customer personas: Defining customer personas makes it easier to understand common traits and business clients' purchasing habits. Unsupervised learning allows businesses to build better buyer persona profiles, enabling organizations to align their product messaging more appropriately.\n",
    "\n",
    "5. Recommendation Engines: Using past purchase behavior data, unsupervised learning can help to discover data trends that can be used to develop more effective cross-selling strategies. This is used to make relevant add-on recommendations to customers during the checkout process for online retailers."
   ]
  },
  {
   "cell_type": "markdown",
   "metadata": {},
   "source": [
    "#### Challenge of Unsupervised Learning:\n",
    "While unsupervised learning has many benefits, some challenges can occur when it allows machine learning models to execute without any human intervention. Some of these challenges can include:\n",
    "1. Computational complexity due to a high volume of training data\n",
    "2. Longer training times\n",
    "3. Higher risk of inaccurate results\n",
    "4. Human intervention to validate output variables\n",
    "5. Lack of transparency into the basis on which data was clustered\n"
   ]
  },
  {
   "cell_type": "markdown",
   "metadata": {},
   "source": [
    "#### [Supervised vs Unsupervised Learning:](#h_cell)\n",
    "<a id='s_us_cell'></a>\n",
    "\n",
    "|                | Supervised Learning                      | Unsupervised Learning                    |\n",
    "| -------------- | ---------------------------------------- | ---------------------------------------- |\n",
    "| Data structure | Data: (x, y), and x is data, y is label  | Data: x, Just data, no labels!           |\n",
    "| Data price     | Training data is expensive in a lot of cases. | Training data are cheap!                 |\n",
    "| Goal           | Learn a function to map x -> y           | Learn some underlying hidden structure of the data |\n",
    "| Examples       | Classification, regression, object detection, semantic segmentation, image captioning | Clustering, dimensionality reduction, feature learning, density estimation |"
   ]
  },
  {
   "cell_type": "markdown",
   "metadata": {},
   "source": [
    "### [3. Semi-Supervised Learning](#h_cell)\n",
    "<a id='ssl_cell'></a>\n"
   ]
  },
  {
   "cell_type": "markdown",
   "metadata": {},
   "source": [
    "### [4. Reinforcement Learning](#h_cell)\n",
    "<a id='rl_cell'></a>\n",
    "\n",
    "Reinforcement Learning(RL) is a type of machine learning technique that enables an agent to learn in an interactive environment by trial and error using feedback from its own actions and experiences."
   ]
  },
  {
   "cell_type": "markdown",
   "metadata": {},
   "source": [
    "How does reinforcement learning work?\n",
    "1. Agent: It is an assumed entity which performs actions in an environment to gain some reward.\n",
    "2. Environment (e): A scenario that an agent has to face.\n",
    "3. Reward (R): An immediate return given to an agent when he or she performs specific action or task.\n",
    "4. State (s): State refers to the current situation returned by the environment.\n",
    "5. Policy (π): It is a strategy which is applied by the agent to decide the next action based on the current state.\n",
    "6. Value (V): It is expected long-term return with discount, as compared to the short-term reward.\n",
    "7. Value Function: It specifies the value of a state that is the total amount of reward. It is an agent which should be expected beginning from that state.\n",
    "8. Model of the environment: This mimics the behavior of the environment. It helps you to make inferences to be made and also determine how the environment will behave.\n",
    "9. Model based methods: It is a method for solving reinforcement learning problems which use model-based methods.\n",
    "10. Q value or action value (Q): Q value is quite similar to value. The only difference between the two is that it takes an additional parameter as a current action.\n"
   ]
  },
  {
   "cell_type": "markdown",
   "metadata": {},
   "source": [
    "### [5. Data:](#h_cell)\n",
    "<a id='data_cell'></a>\n",
    "\n",
    "There are several types of data within the world of big data. Here’s a guide to structured and unstructured data."
   ]
  },
  {
   "cell_type": "markdown",
   "metadata": {},
   "source": [
    "#### Structure Data:\n",
    "Structured data is typically quantitative data that is organized and easily searchable. The programming language Structured Query Language (SQL) is used in a relational database to “query” to input and search within structured data. Examples of structured data include names, addresses, credit card numbers, telephone numbers, star ratings from customers, bank information, and other data that can be easily searched using SQL. Data format could be CSV or XML.\n",
    "Structured data is often referred to as quantitative data. It means that such data commonly contains precise numbers or textual elements that can be counted. The analysis methods are clear and easy-to-apply. Among them there are:\n",
    "\n",
    "1. classification or arranging stored items of data into similar classes based on common features,\n",
    "2. regression or investigation of the relationships and dependencies between variables, and\n",
    "3. data clustering or organizing the data points into specific groups based on various attributes."
   ]
  },
  {
   "cell_type": "markdown",
   "metadata": {},
   "source": [
    "#### Unstructured Data:\n",
    "Unstructured data is every other type of data that is not structured. Approximately 80-90% of data is unstructured, meaning it has huge potential for competitive advantage if companies find ways to leverage it [1]. Unstructured data includes content such as emails, images, videos, audio files, social media posts, PDFs, and much more. Data format like pdf, mp3, \n",
    "\n",
    "Unstructured data is typically stored in data lakes, NoSQL databases, data warehouses, and applications. Today, this information can be processed by artificial intelligence algorithms and delivers huge value for organizations.\n",
    "1. Chatbots: Chatbots are programmed to perform text analysis to answer customer questions and provide the right information.\n",
    "\n",
    "2. Market predictions: Data can be maneuvered to predict changes in the stock market, so analysts can adjust their calculations and investment decisions.\n",
    "\n",
    "Unstructured data, in turn, is often classified as qualitative data containing subjective information that can’t be handled using traditional methods and software analytics tools. For instance, qualitative data can flow from customer surveys or social media feedback in a text form. To process and analyze qualitative data, more cutting-edge analytics techniques are required such as:\n",
    "- data stacking or investigation of large volumes of data, splitting them into smaller items and stacking the variables - with similar values into a single group, and\n",
    "- data mining or the process of detecting certain patterns, oddities, and interactions in large data sets to express possible outcomes in advance.\n"
   ]
  },
  {
   "cell_type": "markdown",
   "metadata": {},
   "source": [
    "#### Semi Structured:\n",
    "Semi-structured data is a mix of both types of data. A photo taken on your iPhone is unstructured, but it might be accompanied by a timestamp and a geotagged location. Some phones will tag photos based on faces or objects, adding another element of structured data. With these classifiers, this photo is considered semi-structured data."
   ]
  },
  {
   "cell_type": "markdown",
   "metadata": {},
   "source": [
    "### [6. Parameter and Hyperparameter](#h_cell)\n",
    "<a id='p_hp_cell'></a>\n",
    "\n",
    "***Parameter:*** Parameters are the internal variables that a model learns from training data in order to make predictions or fit the data. These parameters directly affect the behavior and outcome of the model.<br>\n",
    "`Parameters → Learned from data.`\n",
    "\n",
    "***Hyperparameter***: Hyperparameters, on the other hand, are external configuration settings that are not learned by the model during training, but are set by the user before training begins.<br>\n",
    "`Hyperparameters → Set before training and influence the learning process.`"
   ]
  },
  {
   "cell_type": "markdown",
   "metadata": {},
   "source": [
    "##### [7. Bias, Variance, Underfitting, overfitting:](#h_cell)\n",
    "<a id='b_v__cell'></a>\n"
   ]
  },
  {
   "cell_type": "markdown",
   "metadata": {},
   "source": [
    "###### 1. Bias:\n",
    "Bias is the difference between the average prediction of our model and the correct value which we are trying to predict. Resulted Error from Training Data.\n",
    "* High Bias: if the average prediction values are far away from actual values.\n",
    "* Low Bias: Distance between prediction and actual values are minimal.\n"
   ]
  },
  {
   "cell_type": "code",
   "execution_count": 2,
   "metadata": {},
   "outputs": [
    {
     "name": "stdout",
     "output_type": "stream",
     "text": [
      "Bias: -1.4\n"
     ]
    }
   ],
   "source": [
    "import numpy as np\n",
    "\n",
    "# Actual target values\n",
    "actual_values = np.array([10, 15, 12, 8, 20])\n",
    "\n",
    "# Predicted values from a model\n",
    "predicted_values = np.array([8, 14, 11, 7, 18])\n",
    "\n",
    "# Calculate the bias\n",
    "bias = np.mean(predicted_values - actual_values)\n",
    "\n",
    "print(\"Bias:\", -7/5)"
   ]
  },
  {
   "cell_type": "code",
   "execution_count": 4,
   "metadata": {},
   "outputs": [
    {
     "data": {
      "image/png": "[encoded data removed]",
      "text/plain": [
       "<Figure size 640x480 with 1 Axes>"
      ]
     },
     "metadata": {},
     "output_type": "display_data"
    }
   ],
   "source": [
    "import numpy as np\n",
    "from sklearn.linear_model import LinearRegression\n",
    "import matplotlib.pyplot as plt\n",
    "\n",
    "# Generate synthetic data\n",
    "np.random.seed(0)\n",
    "X = np.random.rand(50, 1) * 10\n",
    "y = 2 * X + 1 + np.random.randn(50, 1) * 2  # True relationship: y = 2*X + 1\n",
    "\n",
    "# Fit a linear regression model\n",
    "model_with_bias = LinearRegression()\n",
    "model_with_bias.fit(X, y)\n",
    "\n",
    "# Plot the true relationship and the model's predictions\n",
    "plt.scatter(X, y, label='True Data')\n",
    "plt.plot(X, model_with_bias.predict(X), color='red', label='Model with Bias')\n",
    "plt.xlabel('X')\n",
    "plt.ylabel('y')\n",
    "plt.legend()\n",
    "plt.title('Linear Regression with Bias')\n",
    "plt.show()"
   ]
  },
  {
   "cell_type": "markdown",
   "metadata": {},
   "source": [
    "###### 2. Variance:\n",
    "If a model which predicts well with training dataset and fails with independent unseen data (Testing dataset), then it is evident that model has a variance. Resulted Error from Test Data.\n",
    "* High Variance: When the test error is high.\n",
    "* Low Variance: When the test error is minimal.\n"
   ]
  },
  {
   "cell_type": "markdown",
   "metadata": {},
   "source": [
    "###### 3. Overfitting:\n",
    "Overfitting occurs when a statistical model or machine learning algorithm captures the noise of the data. Intuitively, overfitting occurs when the model or the algorithm fits the data too well. Specifically, overfitting occurs if the model or algorithm shows low bias but high variance.\n",
    "\n",
    "Ways to Reduce High Variance:\n",
    "1. Reduce the input features or number of parameters as a model is overfitted.\n",
    "2. Do not use a complex model.\n",
    "3. Increase the training data.\n",
    "4. Increase the Regularization term.\n"
   ]
  },
  {
   "cell_type": "markdown",
   "metadata": {},
   "source": [
    "###### 4. Underfitting:\n",
    "Specifically, underfitting occurs if the model or algorithm shows low variance but high bias. A statistical model or a machine learning algorithm is said to have underfitting when it cannot capture the underlying trend of the data, i.e., it only performs well on testing data(low variance) but performs poorly on training data(high bias).\n",
    "\n",
    "Techniques to reduce underfitting: \n",
    "1. Increase model complexity.\n",
    "2. Increase the number of features, performing feature engineering.\n",
    "3. Remove noise from the data.\n",
    "4. Increase the number of epochs or increase the duration of training to get better results.\n"
   ]
  },
  {
   "cell_type": "markdown",
   "metadata": {},
   "source": [
    "***Different Combinations of Bias-Variance:***\n",
    "1. Low-Bias, Low-Variance:The combination of low bias and low variance shows an ideal machine learning model. However, it is not possible practically.\n",
    "2. Low-Bias, High-Variance: With low bias and high variance, model predictions are inconsistent and accurate on average. This case occurs when the model learns with a large number of parameters and hence leads to an overfitting\n",
    "3. High-Bias, Low-Variance: With High bias and low variance, predictions are consistent but inaccurate on average. This case occurs when a model does not learn well with the training dataset or uses few numbers of the parameter. It leads to underfitting problems in the model.\n",
    "4. High-Bias, High-Variance: With high bias and high variance, predictions are inconsistent and also inaccurate on average.\n"
   ]
  },
  {
   "cell_type": "markdown",
   "metadata": {},
   "source": [
    "***Bias-Variance Trade-Off:***\n",
    "\n",
    "While building the machine learning model, it is really important to take care of bias and variance in order to avoid overfitting and underfitting in the model. If the model is very simple with fewer parameters, it may have low variance and high bias. Whereas, if the model has a large number of parameters, it will have high variance and low bias. So, it is required to make a balance between bias and variance errors, and this balance between the bias error and variance error is known as the Bias-Variance trade-off.\n",
    "\n",
    "key-points:\n",
    "1. If we decrease the variance, it will increase the bias.\n",
    "2. If we decrease the bias, it will increase the variance.\n"
   ]
  },
  {
   "cell_type": "markdown",
   "metadata": {},
   "source": [
    "### 8. Evaluation Matrix:"
   ]
  }
 ],
 "metadata": {
  "kernelspec": {
   "display_name": "Python 3",
   "language": "python",
   "name": "python3"
  },
  "language_info": {
   "codemirror_mode": {
    "name": "ipython",
    "version": 3
   },
   "file_extension": ".py",
   "mimetype": "text/x-python",
   "name": "python",
   "nbconvert_exporter": "python",
   "pygments_lexer": "ipython3",
   "version": "3.11.3"
  },
  "orig_nbformat": 4
 },
 "nbformat": 4,
 "nbformat_minor": 2
}
