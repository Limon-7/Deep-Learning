{
 "cells": [
  {
   "attachments": {},
   "cell_type": "markdown",
   "metadata": {},
   "source": [
    "## Lecture-4: Computational Graph Calculation\n"
   ]
  },
  {
   "attachments": {},
   "cell_type": "markdown",
   "metadata": {},
   "source": [
    "01. Simple Back Propagation\n",
    "\n",
    "![Back-1:](../images/01_BackPropagation.png)"
   ]
  },
  {
   "cell_type": "code",
   "execution_count": 36,
   "metadata": {},
   "outputs": [
    {
     "name": "stdout",
     "output_type": "stream",
     "text": [
      "forward: q=3 f=-12\n",
      "back: dq=-4 dz=3 dx=-4 dy:-4\n"
     ]
    }
   ],
   "source": [
    "'''\n",
    "f(x,y,z)=(x+y)Z ex: x=-2, y= 5, z=-4\n",
    "q=x+y; dq/dx=1; dq/dy=1\n",
    "f=qz; df/dq=z; df/dz=q\n",
    "'''\n",
    "class SimplePropagation:\n",
    "    def __init__(self,x,y,z):\n",
    "        self.x=x\n",
    "        self.y=y\n",
    "        self.z=z\n",
    "    def forward(self):\n",
    "        self.q= self.x+self.y # q=p+q\n",
    "        self.f= self.q*self.z # z=qz\n",
    "    def back(self): #dout = df/df=1\n",
    "        self.dq=self.z # df/dq = (df/dz)=1*z\n",
    "        self.dz=self.q # df/dz = (df/dz)= 1*q\n",
    "        self.dx=self.dq # df/dx=(df/dq)*(dq/dx)=z*1\n",
    "        self.dy=self.dq # df/dy=(df/dq)*(dq/dy)=z*1\n",
    "\n",
    "s=SimplePropagation(-2,5,-4)\n",
    "s.forward()\n",
    "s.back()\n",
    "print(f\"forward: q={s.q} f={s.f}\")\n",
    "print(f\"back: dq={s.dq} dz={s.dz} dx={s.dx} dy:{s.dy}\")"
   ]
  },
  {
   "attachments": {},
   "cell_type": "markdown",
   "metadata": {},
   "source": [
    "2. Complex Calculation\n",
    "\n",
    "![Image-1:](../images/02_backPropagation.png)"
   ]
  },
  {
   "cell_type": "code",
   "execution_count": 12,
   "metadata": {},
   "outputs": [
    {
     "name": "stdout",
     "output_type": "stream",
     "text": [
      "Forward Propagation:\n",
      " p=W0*X0: -2 q=W1*X1:6 r=p+q:4 s=r+w2:1 s1=s*(-1):-1 s2=exp(s1):0.36787944117144233 s3=s2+1:1.3678794411714423 f=1/s3:0.7310585786300049\n",
      "Back Propagation:\n",
      "d(f)/df:-0.534446645388523 d(1/x)/dx:-0.534446645388523 dcf(x)/dx: -0.19661193324148188 f(exe^x)/dx: 0.19661193324148188 \n",
      "dr: 0.19661193324148188 dw2: 0.19661193324148188 dp: 0.19661193324148188 dq: 0.19661193324148188\n",
      "dw1: -0.39322386648296376 dx1: -0.5898357997244457 dw0: -0.19661193324148188 dx0: 0.39322386648296376\n"
     ]
    }
   ],
   "source": [
    "import numpy as np\n",
    "'''\n",
    "f(w,x) =1/1+e^-(W0X0+W1X1+W2X2)\n",
    "p=W0*X0\n",
    "q=W1*X1\n",
    "r=p+q\n",
    "s=r+w2\n",
    "s1=s*(-1)\n",
    "s2=exp(s1)\n",
    "s3=s2+1\n",
    "f=1/s3\n",
    "'''\n",
    "class Propagation:\n",
    "    def __init__(self,X0,W0,X1,W1,W2):\n",
    "        self.X0=X0\n",
    "        self.W0=W0\n",
    "        self.X1=X1\n",
    "        self.W1=W1\n",
    "        self.W2=W2\n",
    "    def forward(self):\n",
    "        self.p= self.X0*self.W0 # \n",
    "        self.q= self.X1*self.W1 # \n",
    "        self.r=self.p+self.q\n",
    "        self.s= self.r+self.W2\n",
    "        self.s1=self.s*(-1)\n",
    "        self.s2= np.exp(self.s1)\n",
    "        self.s3=self.s2+1\n",
    "        self.f=1/self.s3\n",
    "    def back(self): #dout = df/df=1\n",
    "        self.df= -1/self.s3**2 # df/dx = d(1/x)/dx=-1/x^2\n",
    "        self.ds3= 1*self.df # dcf(x)/dx = c+x\n",
    "        self.ds2= np.exp(-1)*self.ds3 #f(x)/dx= f(exe^x)/dx= exe^x\n",
    "        self.ds1= (-1)* self.ds2 #f(x)/dx= f(exe^x)/dx= exe^x\n",
    "        self.dw2=(1)*self.ds1 # df/dw2 = f(r+w2)/dw2= 1\n",
    "        self.dr=(1)*self.ds1 # df/dr = f(r+w2)/dr= 1\n",
    "        self.dp=(1)*self.dr # df/dp = f(p+q)/dp= 1\n",
    "        self.dq=(1)*self.dr # df/dq = f(p+q)/dq= 1\n",
    "        self.dw1=self.dq*self.X1 # df/dw1 = f(q)/dw1=f(w1x1)/dw1= 1*x1\n",
    "        self.dx1=self.dq*self.W1 # df/dx1 = f(q)/dx1=f(w1x1)/dx1= 1*w1\n",
    "        self.dw0=self.dp*self.X0 # df/dw0 = f(p)/dw0=f(w0x0)/dw0= 1*x0\n",
    "        self.dx0=self.dp*self.W0 # df/dx1 = f(p)/dx0=f(w0x0)/dx0= 1*w0\n",
    "\n",
    "s= Propagation(-1,2,-2,-3,-3) #\n",
    "s.forward()\n",
    "s.back()\n",
    "print(f\"Forward Propagation:\\n p=W0*X0: {s.p} q=W1*X1:{s.q} r=p+q:{s.r} s=r+w2:{s.s} s1=s*(-1):{s.s1} s2=exp(s1):{s.s2} s3=s2+1:{s.s3} f=1/s3:{s.f}\")\n",
    "print(\"Back Propagation:\")\n",
    "print(f\"d(f)/df:{s.df} d(1/x)/dx:{s.ds3} dcf(x)/dx: {s.ds2} f(exe^x)/dx: {s.ds1} \")\n",
    "print(f\"dr: {s.dr} dw2: {s.dw2} dp: {s.dp} dq: {s.dq}\")\n",
    "print(f\"dw1: {s.dw1} dx1: {s.dx1} dw0: {s.dw0} dx0: {s.dx0}\")"
   ]
  },
  {
   "attachments": {},
   "cell_type": "markdown",
   "metadata": {},
   "source": [
    "### A vectorized Example\n",
    "![Image-1:](../images/jacobian-matrix.png)\n",
    "![Image-2:](../images/03_BackPropagationVectorized.png)"
   ]
  },
  {
   "cell_type": "code",
   "execution_count": 30,
   "metadata": {},
   "outputs": [
    {
     "name": "stdout",
     "output_type": "stream",
     "text": [
      "Dimention of x=(2, 1) and Dimention of w=(2, 2)\n",
      "q:[[0.22]\n",
      " [0.26]] out:0.11600000000000003\n",
      "dgrad:\n",
      " [[0.44]\n",
      " [0.52]]\n",
      "dw:\n",
      " [[0.088 0.176]\n",
      " [0.104 0.208]]\n",
      "dx:\n",
      " [[-0.112]\n",
      " [ 0.636]]\n"
     ]
    }
   ],
   "source": [
    "import numpy as np\n",
    "w=np.array([[.1,.5],[-.3, .8]])\n",
    "x= np.array([[.2],[.4]])\n",
    "print(f\"Dimention of x={x.shape} and Dimention of w={w.shape}\")\n",
    "\n",
    "def forward(X,w):\n",
    "    # step-1: dot multiplication\n",
    "    q=w.dot(X) # q=wx\n",
    "    out=np.sum(np.square(q)) # f(q)=||q||^2\n",
    "    return q,out\n",
    "def backward(q,x,w):\n",
    "    dgrad= 2*q # df/dqi= 2qi vectorized form or df/dq=2q\n",
    "    # dw=dgrad*(x)\n",
    "    xT= np.transpose(x)\n",
    "    wT=np.transpose(w)\n",
    "    # dw=np.matmul(dgrad,xT) # df/dw=2q*x^T\n",
    "    dw=dgrad.dot(xT)\n",
    "    # dx=np.matmul(wT,dgrad) ## df/dx=w^T*2q\n",
    "    dx=wT.dot(dgrad)\n",
    "    return dgrad, dw, dx\n",
    "\n",
    "q, out= forward(x,w)\n",
    "print(f\"q:{q} out:{out}\")\n",
    "# back\n",
    "dgrad, dw, dx= backward(q, x, w)\n",
    "print(\"dgrad:\\n\", dgrad)\n",
    "print(\"dw:\\n\", dw)\n",
    "print(\"dx:\\n\", dx)"
   ]
  },
  {
   "attachments": {},
   "cell_type": "markdown",
   "metadata": {},
   "source": [
    "### Forward and Backward Propagation "
   ]
  },
  {
   "cell_type": "code",
   "execution_count": 41,
   "metadata": {},
   "outputs": [
    {
     "name": "stdout",
     "output_type": "stream",
     "text": [
      "[0.3932238664829637, -0.5898357997244456]\n",
      "[-0.19661193324148185, -0.3932238664829637, 0.19661193324148185]\n"
     ]
    }
   ],
   "source": [
    "import math\n",
    "w = [2,-3,-3] # assume some random weights and data\n",
    "x = [-1, -2]\n",
    "\n",
    "# forward pass\n",
    "dot = w[0]*x[0] + w[1]*x[1] + w[2]\n",
    "f = 1.0 / (1 + math.exp(-dot)) # sigmoid function\n",
    "\n",
    "# backward pass through the neuron (backpropagation)\n",
    "ddot = (1 - f) * f # gradient on dot variable, using the sigmoid gradient derivation\n",
    "dx = [w[0] * ddot, w[1] * ddot] # backprop into x\n",
    "dw = [x[0] * ddot, x[1] * ddot, 1.0 * ddot] # backprop into w\n",
    "# we're done! we have the gradients on the inputs to the circuit\n",
    "print(dx)\n",
    "print(dw)"
   ]
  },
  {
   "attachments": {},
   "cell_type": "markdown",
   "metadata": {},
   "source": [
    "### Staged computation\n",
    "- $f(x,y)=(x+p(y))/(p(x)+(x+y)^2)$"
   ]
  },
  {
   "cell_type": "code",
   "execution_count": 42,
   "metadata": {},
   "outputs": [
    {
     "name": "stdout",
     "output_type": "stream",
     "text": [
      "1.5456448841066441\n"
     ]
    }
   ],
   "source": [
    "x = 3 # example values\n",
    "y = -4\n",
    "\n",
    "# forward pass\n",
    "sigy = 1.0 / (1 + math.exp(-y)) # sigmoid in numerator   #(1)\n",
    "num = x + sigy # numerator                               #(2)\n",
    "sigx = 1.0 / (1 + math.exp(-x)) # sigmoid in denominator #(3)\n",
    "xpy = x + y                                              #(4)\n",
    "xpysqr = xpy**2                                          #(5)\n",
    "den = sigx + xpysqr # denominator                        #(6)\n",
    "invden = 1.0 / den                                       #(7)\n",
    "f = num * invden # done!\n",
    "print(f)"
   ]
  },
  {
   "attachments": {},
   "cell_type": "markdown",
   "metadata": {},
   "source": [
    "Computing the backprop pass is easy: We’ll go backwards and for every variable along the way in the forward pass (sigy, num, sigx, xpy, xpysqr, den, invden) we will have the same variable, but one that begins with a d, which will hold the gradient of the output of the circuit with respect to that variable."
   ]
  },
  {
   "cell_type": "code",
   "execution_count": 43,
   "metadata": {},
   "outputs": [
    {
     "name": "stdout",
     "output_type": "stream",
     "text": [
      "1.5922327514838093\n"
     ]
    }
   ],
   "source": [
    "# backprop f = num * invden\n",
    "dnum = invden # gradient on numerator                             #(8)\n",
    "dinvden = num                                                     #(8)\n",
    "# backprop invden = 1.0 / den \n",
    "dden = (-1.0 / (den**2)) * dinvden                                #(7)\n",
    "# backprop den = sigx + xpysqr\n",
    "dsigx = (1) * dden                                                #(6)\n",
    "dxpysqr = (1) * dden                                              #(6)\n",
    "# backprop xpysqr = xpy**2\n",
    "dxpy = (2 * xpy) * dxpysqr                                        #(5)\n",
    "# backprop xpy = x + y\n",
    "dx = (1) * dxpy                                                   #(4)\n",
    "dy = (1) * dxpy                                                   #(4)\n",
    "# backprop sigx = 1.0 / (1 + math.exp(-x))\n",
    "dx += ((1 - sigx) * sigx) * dsigx # Notice += !! See notes below  #(3)\n",
    "# backprop num = x + sigy\n",
    "dx += (1) * dnum                                                  #(2)\n",
    "dsigy = (1) * dnum                                                #(2)\n",
    "# backprop sigy = 1.0 / (1 + math.exp(-y))\n",
    "dy += ((1 - sigy) * sigy) * dsigy       \n",
    "print(dy)                          #(1)\n",
    "# done! phew"
   ]
  },
  {
   "attachments": {},
   "cell_type": "markdown",
   "metadata": {},
   "source": [
    "#### Modularized implementation: forward / backward API"
   ]
  },
  {
   "cell_type": "code",
   "execution_count": 45,
   "metadata": {},
   "outputs": [],
   "source": [
    "class MultiplyGate:\n",
    "    def forward(self,x,y):\n",
    "        self.x = x\n",
    "        self.y = y\n",
    "        z = x*y\n",
    "        return z\n",
    "    def backward(dz):\n",
    "        dx = y * dz # [dz/dz * dL/dz]\n",
    "        dy = x * dz # [dz/dy * dL/dz]\n",
    "        return [dx,dy]"
   ]
  },
  {
   "attachments": {},
   "cell_type": "markdown",
   "metadata": {},
   "source": [
    "## Example feed-forward computation of a neural network"
   ]
  },
  {
   "cell_type": "code",
   "execution_count": 35,
   "metadata": {},
   "outputs": [],
   "source": [
    "class Neuron:\n",
    "    def neuron_trics(self, inputs):\n",
    "        \"\"\"Assume insputs are 1-D numpy array and bias is a number\"\"\"\n",
    "        cell_body_sum= np.sum(inputs*self.weights)+ self.bias\n",
    "        firing_rate=1/1+math.exp(-cell_body_sum) # activation function(sigmoid function)\n",
    "        return firing_rate"
   ]
  },
  {
   "cell_type": "code",
   "execution_count": null,
   "metadata": {},
   "outputs": [],
   "source": []
  }
 ],
 "metadata": {
  "kernelspec": {
   "display_name": "Python 3",
   "language": "python",
   "name": "python3"
  },
  "language_info": {
   "codemirror_mode": {
    "name": "ipython",
    "version": 3
   },
   "file_extension": ".py",
   "mimetype": "text/x-python",
   "name": "python",
   "nbconvert_exporter": "python",
   "pygments_lexer": "ipython3",
   "version": "3.11.3"
  },
  "orig_nbformat": 4
 },
 "nbformat": 4,
 "nbformat_minor": 2
}
