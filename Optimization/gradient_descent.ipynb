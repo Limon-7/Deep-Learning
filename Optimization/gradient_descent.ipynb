{
 "cells": [
  {
   "attachments": {},
   "cell_type": "markdown",
   "metadata": {},
   "source": [
    "# Gradient Descend:\n",
    "Gradient descent is an optimization algorithm commonly used in machine learning and optimization problems to minimize the loss function or objective function of a model. It is an iterative algorithm that adjusts the parameters of a model in small steps, guided by the gradient of the loss function with respect to those parameters.\n",
    "\n",
    "1. **Local Minima:** A local minimum of a function is a point where the function value is smaller than at nearby points.\n",
    "2. **Global Minima:** A global minimum is a point where the function value is smaller than at all other feasible points.\n",
    "\n",
    "3. **SuddlePoint:** A saddle point is a critical point in a function where the gradient is zero, but it is not an extremum (maximum or minimum). \n",
    "    * Some gradients will get the loss up.\n",
    "    * Some gradients will get the loss down.\n",
    "    * And that happens more in high dimensional.\n",
    "\n",
    "1. **Stochastic gradient descent:** batch size=1: In sgd weight update happens after processing each data point , therefore backpropagation takes place after processing each data point. Let n=1000, So batch size=1; iteration=n/batch size=1000\n",
    "\n",
    "2. **Mini-batch Gradient:** batch size=1<k<n: Suppose, n=1000 mini batch size=k=5 ( k should be: 1 < k < n ), iteration= n/k=200\n",
    "\n",
    "3. **Batch gradient descent or gradient descent:** batch size= n: N=1000, batch size= 1000, so iteration= n/batch size=1"
   ]
  },
  {
   "attachments": {},
   "cell_type": "markdown",
   "metadata": {},
   "source": [
    "### Calculate Gradient:\n",
    "1. ***Numerical Gradient:*** Numerical gradient algorithms are used to approximate the gradients or derivatives of a function when analytical gradients are not available or difficult to compute. These algorithms estimate the gradients by evaluating the function at multiple points and using finite differences to approximate the derivative.\n",
    "\n",
    "    Numerical gradients can be computationally expensive and less accurate than analytical gradients, especially when the step size is too large or too small. Simply, slow :(, approximate :(, easy to write :)\n",
    "\n",
    "Algorithm:\n"
   ]
  },
  {
   "cell_type": "code",
   "execution_count": 5,
   "metadata": {},
   "outputs": [
    {
     "name": "stdout",
     "output_type": "stream",
     "text": [
      "x: [[-1  0  1]\n",
      " [ 2  3  4]]\n",
      "Function values: [[-0.68294197  0.          2.68294197]\n",
      " [ 5.81859485  9.28224002 14.48639501]]\n",
      "Numerical Gradient: [[-0.91939539  2.          3.08060461]\n",
      " [ 3.16770633  4.02001501  6.69271276]]\n"
     ]
    }
   ],
   "source": [
    "import numpy as np\n",
    "\n",
    "# Define a function\n",
    "def f(x):\n",
    "    return x**2 + 2 * np.sin(x)\n",
    "\n",
    "# Define the points at which to compute the gradient\n",
    "x = np.array([[-1, 0, 1],[2,3,4]])  # Example points\n",
    "\n",
    "# Define the step size for finite differences\n",
    "h = 1e-6\n",
    "\n",
    "# Compute the gradient numerically using finite differences\n",
    "gradient = (f(x + h) - f(x - h)) / (2 * h)\n",
    "\n",
    "# Print the function values and gradient\n",
    "print(\"x:\", x)\n",
    "print(\"Function values:\", f(x))\n",
    "print(\"Numerical Gradient:\", gradient)"
   ]
  },
  {
   "attachments": {},
   "cell_type": "markdown",
   "metadata": {},
   "source": [
    "2. ***Analytical Gradient:*** An analytical gradient, also known as a closed-form gradient, is the exact mathematical expression of the gradient of a function. It is the derivative of the function with respect to all its input variables, computed analytically using calculus rules.\n",
    " fast :), exact :), error-prone :(\n",
    "$∇f = (∂f/∂x, ∂f/∂y)$\n"
   ]
  },
  {
   "cell_type": "code",
   "execution_count": 4,
   "metadata": {},
   "outputs": [
    {
     "name": "stdout",
     "output_type": "stream",
     "text": [
      "Analytic gradient for weight w1 [[-0.10051075 -0.26272135 -0.01630413 -0.12590926]\n",
      " [-0.2010215  -0.5254427  -0.03260825 -0.25181852]\n",
      " [-0.30153225 -0.78816405 -0.04891238 -0.37772778]]\n",
      "Numeric gradient for weight w1: [[-0.100507]]\n"
     ]
    }
   ],
   "source": [
    "import numpy as np\n",
    "\n",
    "np.random.seed(1) # keep the orginal array shape\n",
    "\n",
    "inp_neuron = 3\n",
    "out_neuron = 1\n",
    "hidden_neuron = 4\n",
    "\n",
    "w1 = np.random.rand(inp_neuron, hidden_neuron)\n",
    "w2 = np.random.rand(hidden_neuron, out_neuron)\n",
    "\n",
    "def sigmoid(x):\n",
    "    return 1/(1+np.exp(-x)) # np.exp(m): return An array with exponential of all elements of input array.\n",
    "        \n",
    "def analytic_grad(x, y):\n",
    "        \n",
    "    global w1, w2\n",
    "    \n",
    "    hid = sigmoid(np.matmul(x, w1)) # np.matmul(m1,m2): returns the matrix product of two arrays\n",
    "    out = np.matmul(hid, w2)\n",
    "        \n",
    "    loss = ((y - out)**2)/2\n",
    "    out_delta = (out - y)\n",
    "                            \n",
    "    hid_error = np.matmul(out_delta, w2.T)\n",
    "    hid_delta = hid_error*hid*(1-hid)\n",
    "                          \n",
    "    grad_w2 = np.matmul(hid.T, out_delta)  \n",
    "    grad_w1 = np.matmul(x.T, hid_delta) \n",
    "        \n",
    "    return grad_w1\n",
    "\n",
    "def loss(x, y, w1, w2):\n",
    "                            \n",
    "    hid = sigmoid(np.matmul(x, w1))\n",
    "    out = np.matmul(hid, w2)\n",
    "    loss = ((y - out)**2)/2\n",
    "    return loss    \n",
    "    \n",
    "    \n",
    "def numeric_grad(x, y):\n",
    "        \n",
    "    h = 0.0001\n",
    "    global w1, w2\n",
    "    \n",
    "    w1[0,0] += h\n",
    "    loss_h = loss(x, y, w1, w2)   # f(a+h)\n",
    "        \n",
    "    w1[0,0] -= h\n",
    "    loss_ = loss(x, y, w1, w2)    # f(a)\n",
    "        \n",
    "    grad = (loss_h - loss_)/h     # (f(a+h)-f(a)) / h\n",
    "    return grad\n",
    "\n",
    "x = np.array([[1,2,3]])\n",
    "y = np.array([6])\n",
    "\n",
    "print(\"Analytic gradient for weight w1\", analytic_grad(x, y))\n",
    "print(\"Numeric gradient for weight w1:\", numeric_grad(x, y))"
   ]
  },
  {
   "cell_type": "code",
   "execution_count": 2,
   "metadata": {},
   "outputs": [
    {
     "name": "stdout",
     "output_type": "stream",
     "text": [
      "gradients of w1:\n",
      "\n",
      " [[-0.00723209 -0.02216027 -0.0866869  -0.24917071]\n",
      " [-0.01446418 -0.04432054 -0.1733738  -0.49834142]\n",
      " [-0.02169628 -0.06648081 -0.26006069 -0.74751213]]\n"
     ]
    }
   ],
   "source": [
    "inp_neuron = 3\n",
    "out_neuron = 1\n",
    "hidden_neuron = 4\n",
    "\n",
    "x = np.array([[1,2,3]])\n",
    "y = np.array([6])\n",
    "\n",
    "def sigmoid(x):\n",
    "    return 1/(1+np.exp(-x))\n",
    "\n",
    "# defining weight matrices\n",
    "w1 = np.random.rand(inp_neuron, hidden_neuron)\n",
    "w2 = np.random.rand(hidden_neuron, out_neuron)\n",
    "\n",
    "# calculating activations\n",
    "hid = sigmoid(np.matmul(x, w1))    \n",
    "out = np.matmul(hid, w2)           \n",
    "        \n",
    "# defining loss function    \n",
    "loss = ((y - out)**2)/2\n",
    "\n",
    "# calculating the gredients of loss w.r.t weights\n",
    "out_delta = (out - y)                         \n",
    "hid_error = np.matmul(out_delta, w2.T)\n",
    "hid_delta = hid_error*hid*(1-hid)                         \n",
    "grad_w2 = np.matmul(hid.T, out_delta)  \n",
    "grad_w1 = np.matmul(x.T, hid_delta) \n",
    "\n",
    "print(\"gradients of w1:\\n\\n\", grad_w1)"
   ]
  },
  {
   "attachments": {},
   "cell_type": "markdown",
   "metadata": {},
   "source": [
    "# Gradient Descent: `θj := θj - α * ∂J(θ) / ∂θj`\n",
    "1. `y_pred = w * x + b`\n",
    "2. `J(w, b) = (1/N) * ∑(y_pred - y)^2`\n",
    "\n",
    "\n",
    "Algorithm:\n",
    "\n",
    "        1. Initialize the parameters\n",
    "        2. Compute the cost function\n",
    "        3. Compute the gradients\n",
    "           3.1. Compute the partial derivative of the cost function with respect to w: \n",
    "           ∂J/∂w = (2/N) * ∑(y_pred - y) * x\n",
    "           3.2 Compute the partial derivative of the cost function with respect to b: \n",
    "           ∂J/∂b = (2/N) * ∑(y_pred - y)\n",
    "        4. Update the parameters\n",
    "                - w := w - α * ∂J/∂w\n",
    "                - b := b - α * ∂J/∂b\n",
    "        5. Repeat steps 2-4"
   ]
  },
  {
   "cell_type": "code",
   "execution_count": 2,
   "metadata": {},
   "outputs": [],
   "source": [
    "import numpy as np\n",
    "np.random.seed(100)"
   ]
  },
  {
   "cell_type": "code",
   "execution_count": 4,
   "metadata": {},
   "outputs": [
    {
     "name": "stdout",
     "output_type": "stream",
     "text": [
      "0  loss is [2.9213031  1.29049464] parameters w=[-0.72572637  0.84707995] and b=0.05446999567408109\n",
      "1  loss is [2.72053096 1.14602718] parameters w=[-0.69641729  0.87638902] and b=0.10622512905725448\n",
      "2  loss is [2.53692536 1.01685215] parameters w=[-0.66836192  0.90444439] and b=0.1553970443161712\n",
      "3  loss is [2.36894637 0.90144519] parameters w=[-0.64150017  0.93130614] and b=0.20211101455571517\n"
     ]
    }
   ],
   "source": [
    "\n",
    "# Gradient Descent for linear regression\n",
    "# yhat= wx+b\n",
    "#loss= (y-yhat)**2/N\n",
    "#initialize some parameters\n",
    "N,D=10,2\n",
    "x= np.random.rand(N,D) # d= R*C\n",
    "y= 2*x + np.random.rand() # actual value\n",
    "\n",
    "#parameters\n",
    "w= np.random.randn(D)\n",
    "b= 0.00\n",
    "\n",
    "# hypoparameter\n",
    "learning_rate=0.01\n",
    "\n",
    "def descend(x,y,w,b,learning_rate):\n",
    "    dldw=0.0\n",
    "    dldb=0.0\n",
    "    N=x.shape[0]\n",
    "    for xi, yi in zip(x,y):\n",
    "        dldw +=-(2*xi.dot(yi-(w.T*xi+b)))\n",
    "        dldb +=-np.sum(2*(yi-(w.T*xi+b)))\n",
    "\n",
    "    w= w - learning_rate*(1/N)*dldw #  # in batch gradient descent update happens only one time\n",
    "    b= b - learning_rate*(1/N)*dldb\n",
    "    return w,b\n",
    "        \n",
    "for epoch in range(4):\n",
    "    w,b=descend(x,y,w,b,learning_rate)\n",
    "    yhat=w.T*x+b\n",
    "    loss=np.divide(np.sum((y-yhat)**2, axis=0), x.shape[0])\n",
    "    print(f\"{epoch}  loss is {loss} parameters w={w} and b={b}\")"
   ]
  },
  {
   "attachments": {},
   "cell_type": "markdown",
   "metadata": {},
   "source": [
    "### Different Kind of GD with minimal Example"
   ]
  },
  {
   "cell_type": "code",
   "execution_count": 6,
   "metadata": {},
   "outputs": [
    {
     "data": {
      "text/html": [
       "<div>\n",
       "<style scoped>\n",
       "    .dataframe tbody tr th:only-of-type {\n",
       "        vertical-align: middle;\n",
       "    }\n",
       "\n",
       "    .dataframe tbody tr th {\n",
       "        vertical-align: top;\n",
       "    }\n",
       "\n",
       "    .dataframe thead th {\n",
       "        text-align: right;\n",
       "    }\n",
       "</style>\n",
       "<table border=\"1\" class=\"dataframe\">\n",
       "  <thead>\n",
       "    <tr style=\"text-align: right;\">\n",
       "      <th></th>\n",
       "      <th>height</th>\n",
       "      <th>weight</th>\n",
       "    </tr>\n",
       "  </thead>\n",
       "  <tbody>\n",
       "    <tr>\n",
       "      <th>0</th>\n",
       "      <td>167</td>\n",
       "      <td>83.5</td>\n",
       "    </tr>\n",
       "    <tr>\n",
       "      <th>1</th>\n",
       "      <td>145</td>\n",
       "      <td>72.5</td>\n",
       "    </tr>\n",
       "    <tr>\n",
       "      <th>2</th>\n",
       "      <td>170</td>\n",
       "      <td>85.0</td>\n",
       "    </tr>\n",
       "    <tr>\n",
       "      <th>3</th>\n",
       "      <td>180</td>\n",
       "      <td>90.0</td>\n",
       "    </tr>\n",
       "    <tr>\n",
       "      <th>4</th>\n",
       "      <td>189</td>\n",
       "      <td>94.5</td>\n",
       "    </tr>\n",
       "    <tr>\n",
       "      <th>5</th>\n",
       "      <td>155</td>\n",
       "      <td>77.5</td>\n",
       "    </tr>\n",
       "    <tr>\n",
       "      <th>6</th>\n",
       "      <td>163</td>\n",
       "      <td>81.5</td>\n",
       "    </tr>\n",
       "    <tr>\n",
       "      <th>7</th>\n",
       "      <td>178</td>\n",
       "      <td>89.0</td>\n",
       "    </tr>\n",
       "    <tr>\n",
       "      <th>8</th>\n",
       "      <td>173</td>\n",
       "      <td>86.5</td>\n",
       "    </tr>\n",
       "    <tr>\n",
       "      <th>9</th>\n",
       "      <td>176</td>\n",
       "      <td>88.0</td>\n",
       "    </tr>\n",
       "  </tbody>\n",
       "</table>\n",
       "</div>"
      ],
      "text/plain": [
       "   height  weight\n",
       "0     167    83.5\n",
       "1     145    72.5\n",
       "2     170    85.0\n",
       "3     180    90.0\n",
       "4     189    94.5\n",
       "5     155    77.5\n",
       "6     163    81.5\n",
       "7     178    89.0\n",
       "8     173    86.5\n",
       "9     176    88.0"
      ]
     },
     "execution_count": 6,
     "metadata": {},
     "output_type": "execute_result"
    }
   ],
   "source": [
    "# create a data list\n",
    "import matplotlib.pyplot as plt\n",
    "import numpy as np\n",
    "import pandas as pd\n",
    "height=[167,145,170,180,189,155,163,178,173,176]\n",
    "weight=[83.5,72.5,85,90,94.5,77.5,81.5,89,86.5,88]\n",
    "data=pd.DataFrame(list(zip(height,weight)),columns=[\"height\",\"weight\"])\n",
    "x=data[\"height\"]\n",
    "y=data[\"weight\"]\n",
    "data"
   ]
  },
  {
   "cell_type": "code",
   "execution_count": 8,
   "metadata": {},
   "outputs": [],
   "source": [
    "#cost function \n",
    "def single_point_cost(x,y,w):   \n",
    "    y_pred= w * x\n",
    "    cost=( y_pred - y) **2  #linear regression\n",
    "    return cost\n",
    "\n",
    "#grad function\n",
    "def grad(x,y,w,):\n",
    "    grad_w=2 * x * ((w * x) - y ) # derevative with respect to x\n",
    "    return grad_w"
   ]
  },
  {
   "attachments": {},
   "cell_type": "markdown",
   "metadata": {},
   "source": [
    "#### Batch gradient descent or regular gradient descent\n",
    "    batch gradient descent update happens only one time."
   ]
  },
  {
   "cell_type": "code",
   "execution_count": 9,
   "metadata": {},
   "outputs": [
    {
     "name": "stdout",
     "output_type": "stream",
     "text": [
      "optimal value w is  0.48597498598079936\n"
     ]
    },
    {
     "data": {
      "text/plain": [
       "[<matplotlib.lines.Line2D at 0x2a31e4fb010>]"
      ]
     },
     "execution_count": 9,
     "metadata": {},
     "output_type": "execute_result"
    },
    {
     "data": {
      "image/png": "[encoded data removed]",
      "text/plain": [
       "<Figure size 640x480 with 1 Axes>"
      ]
     },
     "metadata": {},
     "output_type": "display_data"
    }
   ],
   "source": [
    "w=0 # here we have  only one parameter\n",
    "gamma=0.000001 #learning rate\n",
    "all_costs=[]\n",
    "for k in range(60):\n",
    "    cost=0\n",
    "    for i in range(len(x)):\n",
    "        a=single_point_cost(x[i],y[i],w)\n",
    "        cost+=a\n",
    "    \n",
    "    cost1=cost/len(x)  #average cost\n",
    "    all_costs.append(cost1)\n",
    "    grad_w=0\n",
    "    for j in range(len(x)):\n",
    "        b=grad(x[j],y[j],w)\n",
    "        grad_w+=b\n",
    "    grad_w1=grad_w/len(x)  #avearge grad\n",
    "    w= w -  (gamma * grad_w1)  # in batch gradient descent update happens only one time\n",
    "\n",
    "print(\"optimal value w is \",w) #optimal value of w\n",
    "epochs=np.arange(60)\n",
    "plt.plot(epochs,all_costs)"
   ]
  },
  {
   "attachments": {},
   "cell_type": "markdown",
   "metadata": {},
   "source": [
    "#### Stochastic gradient descent\n",
    "- sgd update takes place after every point\n",
    "\n",
    "Algorithm 8.1: Stochastic Gradient Descent (SGD) update\n",
    "\n",
    "Inputs:\n",
    "- Parameters: w (initial parameter vector)\n",
    "- Learning rate: α (step size)\n",
    "- Batch: B (randomly sampled mini-batch of training examples)\n",
    "- Loss function gradient: ∇L(w, x, y) (gradient of the loss function with respect to the parameters w, given input x and target y)\n",
    "\n",
    "Procedure:\n",
    "1. Set the gradient accumulation vector g to zero: g = 0\n",
    "2. For each example (x, y) in the batch B:\n",
    "    - Compute the gradient of the loss function with respect to the parameters: ∇ = ∇L(w, x, y)\n",
    "    - Accumulate the gradient: g = g + ∇\n",
    "3. Update the parameters using the accumulated gradient:\n",
    "    - w = w - α * (1 / |B|) * g\n",
    "\n",
    "Output:\n",
    "- Updated parameter vector w"
   ]
  },
  {
   "cell_type": "code",
   "execution_count": 10,
   "metadata": {},
   "outputs": [
    {
     "name": "stdout",
     "output_type": "stream",
     "text": [
      "optimal value w is  0.4999999999999996\n"
     ]
    },
    {
     "data": {
      "text/plain": [
       "[<matplotlib.lines.Line2D at 0x2a31e5a75d0>]"
      ]
     },
     "execution_count": 10,
     "metadata": {},
     "output_type": "execute_result"
    },
    {
     "data": {
      "image/png": "[encoded data removed]",
      "text/plain": [
       "<Figure size 640x480 with 1 Axes>"
      ]
     },
     "metadata": {},
     "output_type": "display_data"
    }
   ],
   "source": [
    "all_costs23=[]\n",
    "w=0\n",
    "gamma=0.000001\n",
    "for k in range(60):\n",
    "    for i in range(len(x)):\n",
    "        cost21=single_point_cost(x[i],y[i],w)\n",
    "        grad_w21=grad(x[i],y[i],w)\n",
    "        w= w- (gamma * grad_w21) # in sgd update takes place after every point\n",
    "    all_costs23.append(cost21)\n",
    "\n",
    "print(\"optimal value w is \",w) #optimal value of w\n",
    "plt.xlabel(\"epochs\")\n",
    "plt.ylabel(\"loss\")\n",
    "plt.plot(epochs,all_costs23)"
   ]
  },
  {
   "attachments": {},
   "cell_type": "markdown",
   "metadata": {},
   "source": [
    "#### Mini batch gradient descent\n",
    "    update takes place after every batch"
   ]
  },
  {
   "cell_type": "code",
   "execution_count": 13,
   "metadata": {},
   "outputs": [
    {
     "name": "stdout",
     "output_type": "stream",
     "text": [
      "optimal value w is  0.4999314426019738\n"
     ]
    },
    {
     "data": {
      "text/plain": [
       "[<matplotlib.lines.Line2D at 0x2a320817e50>]"
      ]
     },
     "execution_count": 13,
     "metadata": {},
     "output_type": "execute_result"
    },
    {
     "data": {
      "image/png": "[encoded data removed]",
      "text/plain": [
       "<Figure size 640x480 with 1 Axes>"
      ]
     },
     "metadata": {},
     "output_type": "display_data"
    }
   ],
   "source": [
    "# let our batch size = 5\n",
    "#so we will have 2 batches because n=10  and updates will happen 2 times \n",
    "w=0\n",
    "gamma=0.000001\n",
    "batch_size= 5\n",
    "all_costs41=[]\n",
    "for k in range(60):\n",
    "    for j in range(int(len(x)/batch_size)):\n",
    "        cost4=0\n",
    "        for i in range(batch_size):\n",
    "            z1=single_point_cost(x[i],y[i],w)\n",
    "            cost4+=z1\n",
    "        if j==1:\n",
    "            all_costs41.append(cost4/batch_size) #avearge cost of that batch\n",
    "        grad_w41=0\n",
    "        for n in range(batch_size):\n",
    "            f1=grad(x[i],y[i],w)\n",
    "            grad_w41+=f1\n",
    "    \n",
    "        grad_w42=grad_w41/batch_size  #average grad of that function\n",
    "\n",
    "        w= w- (gamma * grad_w42)  # update takes place after every batch\n",
    "\n",
    "print(\"optimal value w is \",w) #optimal value of w\n",
    "plt.xlabel(\"epochs\")\n",
    "plt.ylabel(\"loss\")\n",
    "plt.plot(epochs,all_costs41)"
   ]
  },
  {
   "attachments": {},
   "cell_type": "markdown",
   "metadata": {},
   "source": [
    "### Comparison all gradients"
   ]
  },
  {
   "cell_type": "code",
   "execution_count": 14,
   "metadata": {},
   "outputs": [
    {
     "data": {
      "image/png": "[encoded data removed]",
      "text/plain": [
       "<Figure size 1200x800 with 1 Axes>"
      ]
     },
     "metadata": {},
     "output_type": "display_data"
    }
   ],
   "source": [
    "plt.figure(figsize=(12,8))\n",
    "plt.plot(epochs,all_costs,c='r',label=\"batch gd\")\n",
    "plt.plot(epochs,all_costs23,c='b',label=\"sgd\")\n",
    "plt.plot(epochs,all_costs41,c='g',label=\"mini batch gd\")\n",
    "plt.xlabel(\"epochs\")\n",
    "plt.ylabel(\"final_loss\")\n",
    "plt.legend()\n",
    "plt.show()"
   ]
  },
  {
   "attachments": {},
   "cell_type": "markdown",
   "metadata": {},
   "source": [
    "## Example with real Data"
   ]
  },
  {
   "cell_type": "code",
   "execution_count": 90,
   "metadata": {},
   "outputs": [
    {
     "name": "stdout",
     "output_type": "stream",
     "text": [
      "Bias:  0.025472330267818477 Weights:  [0.66148097 0.09849288 0.58086275]\n"
     ]
    }
   ],
   "source": [
    "import random\n",
    "def initialize(dim):\n",
    "    b=random.random()\n",
    "    theta=np.random.rand(dim)\n",
    "    return b,theta\n",
    "b,theta=initialize(3)\n",
    "print(\"Bias: \",b,\"Weights: \",theta)"
   ]
  },
  {
   "cell_type": "code",
   "execution_count": 1,
   "metadata": {},
   "outputs": [
    {
     "data": {
      "text/html": [
       "<div>\n",
       "<style scoped>\n",
       "    .dataframe tbody tr th:only-of-type {\n",
       "        vertical-align: middle;\n",
       "    }\n",
       "\n",
       "    .dataframe tbody tr th {\n",
       "        vertical-align: top;\n",
       "    }\n",
       "\n",
       "    .dataframe thead th {\n",
       "        text-align: right;\n",
       "    }\n",
       "</style>\n",
       "<table border=\"1\" class=\"dataframe\">\n",
       "  <thead>\n",
       "    <tr style=\"text-align: right;\">\n",
       "      <th></th>\n",
       "      <th>Unnamed: 0</th>\n",
       "      <th>TV</th>\n",
       "      <th>radio</th>\n",
       "      <th>newspaper</th>\n",
       "      <th>sales</th>\n",
       "    </tr>\n",
       "  </thead>\n",
       "  <tbody>\n",
       "    <tr>\n",
       "      <th>0</th>\n",
       "      <td>1</td>\n",
       "      <td>230.1</td>\n",
       "      <td>37.8</td>\n",
       "      <td>69.2</td>\n",
       "      <td>22.1</td>\n",
       "    </tr>\n",
       "    <tr>\n",
       "      <th>1</th>\n",
       "      <td>2</td>\n",
       "      <td>44.5</td>\n",
       "      <td>39.3</td>\n",
       "      <td>45.1</td>\n",
       "      <td>10.4</td>\n",
       "    </tr>\n",
       "    <tr>\n",
       "      <th>2</th>\n",
       "      <td>3</td>\n",
       "      <td>17.2</td>\n",
       "      <td>45.9</td>\n",
       "      <td>69.3</td>\n",
       "      <td>9.3</td>\n",
       "    </tr>\n",
       "    <tr>\n",
       "      <th>3</th>\n",
       "      <td>4</td>\n",
       "      <td>151.5</td>\n",
       "      <td>41.3</td>\n",
       "      <td>58.5</td>\n",
       "      <td>18.5</td>\n",
       "    </tr>\n",
       "    <tr>\n",
       "      <th>4</th>\n",
       "      <td>5</td>\n",
       "      <td>180.8</td>\n",
       "      <td>10.8</td>\n",
       "      <td>58.4</td>\n",
       "      <td>12.9</td>\n",
       "    </tr>\n",
       "  </tbody>\n",
       "</table>\n",
       "</div>"
      ],
      "text/plain": [
       "   Unnamed: 0     TV  radio  newspaper  sales\n",
       "0           1  230.1   37.8       69.2   22.1\n",
       "1           2   44.5   39.3       45.1   10.4\n",
       "2           3   17.2   45.9       69.3    9.3\n",
       "3           4  151.5   41.3       58.5   18.5\n",
       "4           5  180.8   10.8       58.4   12.9"
      ]
     },
     "execution_count": 1,
     "metadata": {},
     "output_type": "execute_result"
    }
   ],
   "source": [
    "import pandas as pd\n",
    "import numpy as np\n",
    "import matplotlib.pyplot as plt\n",
    "\n",
    "df=pd.read_csv('../dataset/Advertising.csv')\n",
    "df.head()"
   ]
  },
  {
   "cell_type": "code",
   "execution_count": 21,
   "metadata": {},
   "outputs": [
    {
     "name": "stdout",
     "output_type": "stream",
     "text": [
      "         TV     radio  newspaper\n",
      "0  0.967425  0.979066   1.774493\n",
      "1 -1.194379  1.080097   0.667903\n",
      "2 -1.512360  1.524637   1.779084\n",
      "3  0.051919  1.214806   1.283185\n",
      "4  0.393196 -0.839507   1.278593\n"
     ]
    }
   ],
   "source": [
    "X=df[['TV','radio','newspaper']]\n",
    "Y=df['sales']\n",
    "Y=np.array((Y-Y.mean())/Y.std())\n",
    "X=X.apply(lambda rec:(rec-rec.mean())/rec.std(),axis=0)\n",
    "print(X.head())"
   ]
  },
  {
   "cell_type": "code",
   "execution_count": 22,
   "metadata": {},
   "outputs": [
    {
     "name": "stdout",
     "output_type": "stream",
     "text": [
      "Bias:  0.655920614759266 Weights:  [0.49896821 0.1340551  0.63560361]\n"
     ]
    }
   ],
   "source": [
    "import random\n",
    "def initialize(dim):\n",
    "    b=random.random()\n",
    "    theta=np.random.rand(dim)\n",
    "    return b,theta\n",
    "b,theta=initialize(3)\n",
    "print('Bias: ',b,'Weights: ',theta)"
   ]
  },
  {
   "cell_type": "code",
   "execution_count": 23,
   "metadata": {},
   "outputs": [
    {
     "data": {
      "text/plain": [
       "array([ 2.39775733,  0.62927738,  1.23647886,  1.66027477,  1.55225104,\n",
       "        1.38051924,  0.01575034, -0.08633362, -1.20230092,  0.50296306])"
      ]
     },
     "execution_count": 23,
     "metadata": {},
     "output_type": "execute_result"
    }
   ],
   "source": [
    "def predict_Y(b,theta,X):\n",
    "    return b + np.dot(X,theta)\n",
    "Y_hat=predict_Y(b,theta,X)\n",
    "Y_hat[0:10]"
   ]
  },
  {
   "cell_type": "code",
   "execution_count": 24,
   "metadata": {},
   "outputs": [
    {
     "data": {
      "text/plain": [
       "0.9767079433751067"
      ]
     },
     "execution_count": 24,
     "metadata": {},
     "output_type": "execute_result"
    }
   ],
   "source": [
    "import math\n",
    "def get_cost(Y,Y_hat):\n",
    "    Y_resd=Y-Y_hat\n",
    "    return np.sum(np.dot(Y_resd.T,Y_resd))/len(Y-Y_resd)\n",
    "Y_hat=predict_Y(b,theta,X)\n",
    "get_cost(Y,Y_hat)"
   ]
  },
  {
   "cell_type": "code",
   "execution_count": 25,
   "metadata": {},
   "outputs": [
    {
     "name": "stdout",
     "output_type": "stream",
     "text": [
      "After initialization -Bias:  0.655920614759266 theta:  [0.49896821 0.1340551  0.63560361]\n",
      "After first update -Bias:  0.6428022024640807 theta:  [0.50374229 0.13783112 0.62599112]\n"
     ]
    },
    {
     "data": {
      "text/plain": [
       "0.9767079433751067"
      ]
     },
     "execution_count": 25,
     "metadata": {},
     "output_type": "execute_result"
    }
   ],
   "source": [
    "def update_theta(x,y,y_hat,b_0,theta_o,learning_rate):\n",
    "    '''\n",
    "    x,y : the input and output variable\n",
    "    y_hat: predicted value with current bias and weights\n",
    "    b_0,theta_0: current bias and weights\n",
    "    Learning rate: learning rate to adjust the update step\n",
    "    '''\n",
    "    db=(np.sum(y_hat-y)*2)/len(y)\n",
    "    dw=(np.dot((y_hat-y),x)*2)/len(y)\n",
    "    b_1=b_0-learning_rate*db\n",
    "    theta_1=theta_o-learning_rate*dw\n",
    "    return b_1,theta_1\n",
    "\n",
    "print(\"After initialization -Bias: \",b,\"theta: \",theta)\n",
    "Y_hat=predict_Y(b,theta,X)\n",
    "b,theta=update_theta(X,Y,Y_hat,b,theta,0.01)\n",
    "print(\"After first update -Bias: \",b,\"theta: \",theta)\n",
    "get_cost(Y,Y_hat)"
   ]
  },
  {
   "cell_type": "code",
   "execution_count": 26,
   "metadata": {},
   "outputs": [
    {
     "name": "stdout",
     "output_type": "stream",
     "text": [
      "0.5333926789832796\n",
      "Final Estimate of b and theta :  0.5333926789832796 [0.57500064 0.72406737 0.16976378]\n",
      "    iteration      cost\n",
      "0         0.0  1.031564\n",
      "1        10.0  0.992611\n",
      "2        20.0  0.955321\n",
      "3        30.0  0.919620\n",
      "4        40.0  0.885440\n",
      "5        50.0  0.852714\n",
      "6        60.0  0.821379\n",
      "7        70.0  0.791376\n",
      "8        80.0  0.762646\n",
      "9        90.0  0.735134\n",
      "10      100.0  0.708787\n",
      "11      110.0  0.683556\n",
      "12      120.0  0.659392\n",
      "13      130.0  0.636249\n",
      "14      140.0  0.614083\n",
      "15      150.0  0.592852\n",
      "16      160.0  0.572516\n",
      "17      170.0  0.553036\n",
      "18      180.0  0.534376\n",
      "19      190.0  0.516501\n"
     ]
    }
   ],
   "source": [
    "def run_gradient_descent(X,Y, alpha, num_iterations):\n",
    "    b,theta=initialize(X.shape[1])\n",
    "    iter_num=0\n",
    "    gd_iterations_df=pd.DataFrame(columns=['iteration','cost'])\n",
    "    result_idx=0\n",
    "    for each_iter in range(num_iterations):\n",
    "        Y_hat=predict_Y(b,theta,X)\n",
    "        this_cost=get_cost(Y,Y_hat)\n",
    "        prev_b=b\n",
    "        prev_theta=theta\n",
    "        b,theta=update_theta(X,Y,Y_hat,prev_b,prev_theta,alpha)\n",
    "        # print(b, theta)\n",
    "        if(iter_num%10==0):\n",
    "            gd_iterations_df.loc[result_idx]=[iter_num,this_cost]\n",
    "            result_idx=result_idx+1\n",
    "        iter_num +=1\n",
    "    print(b)\n",
    "    print(\"Final Estimate of b and theta : \",b,theta)\n",
    "    return gd_iterations_df,b,theta\n",
    "gd_iterations_df,b,theta=run_gradient_descent(X,Y,alpha=0.001,num_iterations=200)\n",
    "print(gd_iterations_df)"
   ]
  },
  {
   "cell_type": "code",
   "execution_count": 27,
   "metadata": {},
   "outputs": [
    {
     "data": {
      "text/plain": [
       "Text(0, 0.5, 'Cost or MSE')"
      ]
     },
     "execution_count": 27,
     "metadata": {},
     "output_type": "execute_result"
    },
    {
     "data": {
      "image/png": "[encoded data removed]",
      "text/plain": [
       "<Figure size 640x480 with 1 Axes>"
      ]
     },
     "metadata": {},
     "output_type": "display_data"
    }
   ],
   "source": [
    "%matplotlib inline\n",
    "plt.plot(gd_iterations_df['iteration'],gd_iterations_df['cost'])\n",
    "plt.xlabel('Number of iterations')\n",
    "plt.ylabel('Cost or MSE')"
   ]
  },
  {
   "cell_type": "code",
   "execution_count": 28,
   "metadata": {},
   "outputs": [
    {
     "name": "stdout",
     "output_type": "stream",
     "text": [
      "-4.0298443389490436e-17\n",
      "Final Estimate of b and theta :  -4.0298443389490436e-17 [ 0.75306591  0.53648155 -0.00433069]\n",
      "0.0012072287941551911\n",
      "Final Estimate of b and theta :  0.0012072287941551911 [0.74285042 0.48489848 0.05106122]\n"
     ]
    },
    {
     "data": {
      "text/plain": [
       "Text(0.5, 1.0, 'Cost Vs. Iterations for different alpha values')"
      ]
     },
     "execution_count": 28,
     "metadata": {},
     "output_type": "execute_result"
    },
    {
     "data": {
      "image/png": "[encoded data removed]",
      "text/plain": [
       "<Figure size 640x480 with 1 Axes>"
      ]
     },
     "metadata": {},
     "output_type": "display_data"
    }
   ],
   "source": [
    "alpha_df_1,b,theta=run_gradient_descent(X,Y,alpha=0.01,num_iterations=2000)\n",
    "alpha_df_2,b,theta=run_gradient_descent(X,Y,alpha=0.001,num_iterations=2000)\n",
    "plt.plot(alpha_df_1['iteration'],alpha_df_1['cost'],label='alpha=0.01')\n",
    "plt.plot(alpha_df_2['iteration'],alpha_df_2['cost'],label='alpha=0.001')\n",
    "plt.legend()\n",
    "plt.ylabel('cost')\n",
    "plt.xlabel('Number of iterations')\n",
    "plt.title('Cost Vs. Iterations for different alpha values')"
   ]
  },
  {
   "cell_type": "code",
   "execution_count": null,
   "metadata": {},
   "outputs": [],
   "source": []
  }
 ],
 "metadata": {
  "kernelspec": {
   "display_name": "Python 3",
   "language": "python",
   "name": "python3"
  },
  "language_info": {
   "codemirror_mode": {
    "name": "ipython",
    "version": 3
   },
   "file_extension": ".py",
   "mimetype": "text/x-python",
   "name": "python",
   "nbconvert_exporter": "python",
   "pygments_lexer": "ipython3",
   "version": "3.11.3"
  },
  "orig_nbformat": 4
 },
 "nbformat": 4,
 "nbformat_minor": 2
}
