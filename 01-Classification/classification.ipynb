{
 "cells": [
  {
   "cell_type": "markdown",
   "metadata": {},
   "source": [
    "### Classification:\n",
    "Classification is the grouping of related facts into classes. It is a supervised learning algorithm.\n",
    "1. Linear Classifier: A classifier is a supervised machine learning algorithm used to solve classification problems. Linear classifiers are the simplest ones that are made by linear functions for classifying observations into different categories in linear and nonlinear spaces.\n",
    "    * Logistic Regression\n",
    "    * Naive Bayes Classifier\n",
    "    * Linear Support Vector Machines\n",
    "    * Kernalized Support vector Machines\n",
    "2. KNN-Classifier:\n",
    "    * K-Nearsest Neighbor.\n",
    "3. Tree classifier:\n",
    "    * Decission Tree\n",
    "    * Random Forest\n",
    "    * Gradient Boosted Decission Tree\n"
   ]
  },
  {
   "cell_type": "code",
   "execution_count": 1,
   "metadata": {},
   "outputs": [
    {
     "data": {
      "text/plain": [
       "array([-666, -333,    0])"
      ]
     },
     "execution_count": 1,
     "metadata": {},
     "output_type": "execute_result"
    }
   ],
   "source": [
    "import numpy as np\n",
    "f = np.array([123, 456, 789])\n",
    "f -= np.max(f)\n",
    "f"
   ]
  },
  {
   "cell_type": "markdown",
   "metadata": {},
   "source": [
    "#### [K-NN:](#h_cell)\n",
    "K-Nearest Neighbors (KNN) is a simple and widely used classification and regression algorithm in machine learning. It is categorized as an instance-based learning or lazy learning algorithm because it doesn't explicitly learn a model during training but instead memorizes the entire training dataset for making predictions.\n",
    "[Algorithm](https://github.com/Limon-7/deep-learning-libray/blob/master/algorithm/ml-algorithm.ipynb)\n"
   ]
  },
  {
   "cell_type": "markdown",
   "metadata": {},
   "source": [
    "#### [SVM(Support Vector Machine)](#h_cell)\n",
    "<a id='svm_cell'></a>\n",
    "In machine learning, [support vector machines](https://en.wikipedia.org/wiki/Support_vector_machine) (SVMs, also support vector networks[1]) are supervised learning models with associated learning algorithms that analyze data for classification and regression analysis.\n"
   ]
  },
  {
   "cell_type": "markdown",
   "metadata": {},
   "source": [
    "[Algorithm](https://github.com/Limon-7/deep-learning-libray/blob/master/algorithm/ml-algorithm.ipynb): SVM algorithm can be used for Face detection, image classification, text categorization, etc."
   ]
  },
  {
   "cell_type": "code",
   "execution_count": null,
   "metadata": {},
   "outputs": [],
   "source": [
    "from svm import SVM\n",
    "clf = SVM()\n",
    "X,y=clf.dataloader()\n",
    "clf.fit(X, y)\n",
    "predictions = clf.predict(X)\n",
    "print(predictions)\n",
    "\n",
    "print(clf.w, clf.b)\n",
    "\n",
    "clf.visualize_svm(X,y)"
   ]
  }
 ],
 "metadata": {
  "kernelspec": {
   "display_name": "Python 3",
   "language": "python",
   "name": "python3"
  },
  "language_info": {
   "codemirror_mode": {
    "name": "ipython",
    "version": 3
   },
   "file_extension": ".py",
   "mimetype": "text/x-python",
   "name": "python",
   "nbconvert_exporter": "python",
   "pygments_lexer": "ipython3",
   "version": "3.11.3"
  },
  "orig_nbformat": 4
 },
 "nbformat": 4,
 "nbformat_minor": 2
}
